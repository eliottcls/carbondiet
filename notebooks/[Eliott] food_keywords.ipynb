{
 "cells": [
  {
   "cell_type": "code",
   "execution_count": 1,
   "metadata": {},
   "outputs": [],
   "source": [
    "import pandas as pd"
   ]
  },
  {
   "cell_type": "code",
   "execution_count": 2,
   "metadata": {},
   "outputs": [],
   "source": [
    "data_ademe = pd.read_excel(\"../data/Agribalyse/data_food.xlsx\")"
   ]
  },
  {
   "cell_type": "markdown",
   "metadata": {},
   "source": [
    "##### Keep only first ingredients in Ademe description"
   ]
  },
  {
   "cell_type": "code",
   "execution_count": 3,
   "metadata": {},
   "outputs": [],
   "source": [
    "ingredients = list(dict.fromkeys([x.split(\",\")[0] for x in data_ademe[\"Nom du Produit en Français\"]]))"
   ]
  },
  {
   "cell_type": "markdown",
   "metadata": {},
   "source": [
    "##### Plot a graph of the database"
   ]
  },
  {
   "cell_type": "code",
   "execution_count": 18,
   "metadata": {},
   "outputs": [],
   "source": [
    "df = data_ademe[[\"Groupe d'aliment\", \"Sous-groupe d'aliment\", \"Nom du Produit en Français\"]]"
   ]
  },
  {
   "cell_type": "code",
   "execution_count": 12,
   "metadata": {},
   "outputs": [],
   "source": [
    "df_groupes = data_ademe[[\"Groupe d'aliment\", \"Changement climatique (kg CO2 eq/kg de produit)\"]].groupby(\"Groupe d'aliment\").mean().reset_index()\n",
    "df_sousgroupes = data_ademe[[\"Sous-groupe d'aliment\", \"Changement climatique (kg CO2 eq/kg de produit)\"]].groupby(\"Sous-groupe d'aliment\").mean().reset_index()\n",
    "df_aliment = data_ademe[[\"Nom du Produit en Français\", \"Changement climatique (kg CO2 eq/kg de produit)\"]]"
   ]
  },
  {
   "cell_type": "code",
   "execution_count": 26,
   "metadata": {},
   "outputs": [],
   "source": [
    "from pyvis.network import Network\n",
    "net = Network()"
   ]
  },
  {
   "cell_type": "code",
   "execution_count": 27,
   "metadata": {},
   "outputs": [],
   "source": [
    "net.add_node(\"Nourriture\", label=\"Nourriture\")\n",
    "net.add_nodes(df_groupes[\"Groupe d'aliment\"], value=df_groupes[\"Changement climatique (kg CO2 eq/kg de produit)\"]*5, label=df_groupes[\"Groupe d'aliment\"], color=['#00ff1e' for x in range(len(df_groupes))])\n",
    "net.add_nodes(df_sousgroupes[\"Sous-groupe d'aliment\"], value=df_sousgroupes[\"Changement climatique (kg CO2 eq/kg de produit)\"]*, label=df_sousgroupes[\"Sous-groupe d'aliment\"], color=['#162347' for x in range(len(df_sousgroupes))])\n",
    "net.add_nodes(df_aliment[\"Nom du Produit en Français\"], value=df_aliment[\"Changement climatique (kg CO2 eq/kg de produit)\"], label=df_aliment[\"Nom du Produit en Français\"], color=['#dd4b39' for x in range(len(df_aliment))])"
   ]
  },
  {
   "cell_type": "code",
   "execution_count": 28,
   "metadata": {},
   "outputs": [],
   "source": [
    "for index, row in df.iterrows():\n",
    "    net.add_edge(\"Nourriture\", row[\"Groupe d'aliment\"])\n",
    "    net.add_edge(row[\"Groupe d'aliment\"], row[\"Sous-groupe d'aliment\"])\n",
    "    net.add_edge(row[\"Sous-groupe d'aliment\"], row[\"Nom du Produit en Français\"])"
   ]
  },
  {
   "cell_type": "code",
   "execution_count": 29,
   "metadata": {},
   "outputs": [],
   "source": [
    "net.width = '1400px'\n",
    "net.height = '1400px'\n",
    "net.save_graph('GraphAgribalyse2.html')"
   ]
  },
  {
   "cell_type": "code",
   "execution_count": 25,
   "metadata": {},
   "outputs": [
    {
     "data": {
      "text/html": [
       "<div>\n",
       "<style scoped>\n",
       "    .dataframe tbody tr th:only-of-type {\n",
       "        vertical-align: middle;\n",
       "    }\n",
       "\n",
       "    .dataframe tbody tr th {\n",
       "        vertical-align: top;\n",
       "    }\n",
       "\n",
       "    .dataframe thead th {\n",
       "        text-align: right;\n",
       "    }\n",
       "</style>\n",
       "<table border=\"1\" class=\"dataframe\">\n",
       "  <thead>\n",
       "    <tr style=\"text-align: right;\">\n",
       "      <th></th>\n",
       "      <th>Groupe d'aliment</th>\n",
       "      <th>Changement climatique (kg CO2 eq/kg de produit)</th>\n",
       "    </tr>\n",
       "  </thead>\n",
       "  <tbody>\n",
       "    <tr>\n",
       "      <th>0</th>\n",
       "      <td>aides culinaires et ingrédients divers</td>\n",
       "      <td>2.618907</td>\n",
       "    </tr>\n",
       "    <tr>\n",
       "      <th>1</th>\n",
       "      <td>aliments infantiles</td>\n",
       "      <td>2.561923</td>\n",
       "    </tr>\n",
       "    <tr>\n",
       "      <th>2</th>\n",
       "      <td>boissons</td>\n",
       "      <td>1.501865</td>\n",
       "    </tr>\n",
       "    <tr>\n",
       "      <th>3</th>\n",
       "      <td>entrées et plats composés</td>\n",
       "      <td>4.913607</td>\n",
       "    </tr>\n",
       "    <tr>\n",
       "      <th>4</th>\n",
       "      <td>fruits, légumes, légumineuses et oléagineux</td>\n",
       "      <td>1.556569</td>\n",
       "    </tr>\n",
       "    <tr>\n",
       "      <th>5</th>\n",
       "      <td>glaces et sorbets</td>\n",
       "      <td>2.322910</td>\n",
       "    </tr>\n",
       "    <tr>\n",
       "      <th>6</th>\n",
       "      <td>lait et produits laitiers</td>\n",
       "      <td>4.743682</td>\n",
       "    </tr>\n",
       "    <tr>\n",
       "      <th>7</th>\n",
       "      <td>matières grasses</td>\n",
       "      <td>5.390088</td>\n",
       "    </tr>\n",
       "    <tr>\n",
       "      <th>8</th>\n",
       "      <td>produits céréaliers</td>\n",
       "      <td>3.054857</td>\n",
       "    </tr>\n",
       "    <tr>\n",
       "      <th>9</th>\n",
       "      <td>produits sucrés</td>\n",
       "      <td>8.427314</td>\n",
       "    </tr>\n",
       "    <tr>\n",
       "      <th>10</th>\n",
       "      <td>viandes, œufs, poissons</td>\n",
       "      <td>13.820219</td>\n",
       "    </tr>\n",
       "  </tbody>\n",
       "</table>\n",
       "</div>"
      ],
      "text/plain": [
       "                               Groupe d'aliment  \\\n",
       "0        aides culinaires et ingrédients divers   \n",
       "1                           aliments infantiles   \n",
       "2                                      boissons   \n",
       "3                     entrées et plats composés   \n",
       "4   fruits, légumes, légumineuses et oléagineux   \n",
       "5                             glaces et sorbets   \n",
       "6                     lait et produits laitiers   \n",
       "7                              matières grasses   \n",
       "8                           produits céréaliers   \n",
       "9                               produits sucrés   \n",
       "10                      viandes, œufs, poissons   \n",
       "\n",
       "    Changement climatique (kg CO2 eq/kg de produit)  \n",
       "0                                          2.618907  \n",
       "1                                          2.561923  \n",
       "2                                          1.501865  \n",
       "3                                          4.913607  \n",
       "4                                          1.556569  \n",
       "5                                          2.322910  \n",
       "6                                          4.743682  \n",
       "7                                          5.390088  \n",
       "8                                          3.054857  \n",
       "9                                          8.427314  \n",
       "10                                        13.820219  "
      ]
     },
     "execution_count": 25,
     "metadata": {},
     "output_type": "execute_result"
    }
   ],
   "source": [
    "df_groupes"
   ]
  },
  {
   "cell_type": "code",
   "execution_count": null,
   "metadata": {},
   "outputs": [],
   "source": []
  }
 ],
 "metadata": {
  "kernelspec": {
   "display_name": "Python 3.8.8 ('carrotcake-NfuGrNRY-py3.8')",
   "language": "python",
   "name": "python3"
  },
  "language_info": {
   "codemirror_mode": {
    "name": "ipython",
    "version": 3
   },
   "file_extension": ".py",
   "mimetype": "text/x-python",
   "name": "python",
   "nbconvert_exporter": "python",
   "pygments_lexer": "ipython3",
   "version": "3.8.8"
  },
  "orig_nbformat": 4,
  "vscode": {
   "interpreter": {
    "hash": "badd1853209ea4d65dd099a1b752e99a8a600e6469408ccc7590bab6a710f406"
   }
  }
 },
 "nbformat": 4,
 "nbformat_minor": 2
}
