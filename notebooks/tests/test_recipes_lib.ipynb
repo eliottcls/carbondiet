{
 "cells": [
  {
   "cell_type": "code",
   "execution_count": 1,
   "id": "17383a22",
   "metadata": {},
   "outputs": [],
   "source": [
    "import pandas as pd\n",
    "import numpy as np\n",
    "\n",
    "import sys\n",
    "sys.path.append(\"../../\")    # Add the path to the root directory (where we can find the folder project/)\n",
    "\n",
    "%load_ext autoreload\n",
    "%autoreload 2\n",
    "\n",
    "from project.Recipes.recipes import Ingredient, Recipe, Jow"
   ]
  },
  {
   "cell_type": "markdown",
   "id": "4d9b2b54",
   "metadata": {},
   "source": [
    "## Test average_from_recipes"
   ]
  },
  {
   "cell_type": "code",
   "execution_count": 2,
   "id": "b00ddd04",
   "metadata": {},
   "outputs": [],
   "source": [
    "recipe1 = Recipe()\n",
    "\n",
    "recipe1.add_one_ingredient(\"Boeuf\", dict(quantity = 100, unit = 'g'))\n",
    "recipe1.add_one_ingredient(\"Riz\", dict(quantity = 125, unit = 'g'))\n",
    "recipe1.add_one_ingredient(\"Carotte\", dict(quantity = 125, unit = 'g'))"
   ]
  },
  {
   "cell_type": "code",
   "execution_count": 3,
   "id": "033411b6",
   "metadata": {},
   "outputs": [
    {
     "data": {
      "text/plain": [
       "[('Boeuf', {'quantity': 100, 'unit': 'g'}),\n",
       " ('Riz', {'quantity': 125, 'unit': 'g'}),\n",
       " ('Carotte', {'quantity': 125, 'unit': 'g'})]"
      ]
     },
     "execution_count": 3,
     "metadata": {},
     "output_type": "execute_result"
    }
   ],
   "source": [
    "[(ing.name, qty) for ing, qty in zip(recipe1.ingredients, recipe1.quantities)]"
   ]
  },
  {
   "cell_type": "code",
   "execution_count": 4,
   "id": "084412cd",
   "metadata": {},
   "outputs": [],
   "source": [
    "recipe2 = Recipe()\n",
    "\n",
    "recipe2.add_one_ingredient(\"Boeuf\", dict(quantity = 50, unit = 'g'))\n",
    "recipe2.add_one_ingredient(\"Spaghetti\", dict(quantity = 200, unit = 'g'))"
   ]
  },
  {
   "cell_type": "code",
   "execution_count": 5,
   "id": "c0c65059",
   "metadata": {},
   "outputs": [
    {
     "data": {
      "text/plain": [
       "[('Boeuf', {'quantity': 50, 'unit': 'g'}),\n",
       " ('Spaghetti', {'quantity': 200, 'unit': 'g'})]"
      ]
     },
     "execution_count": 5,
     "metadata": {},
     "output_type": "execute_result"
    }
   ],
   "source": [
    "[(ing.name, qty) for ing, qty in zip(recipe2.ingredients, recipe2.quantities)]"
   ]
  },
  {
   "cell_type": "markdown",
   "id": "a5579e20",
   "metadata": {},
   "source": [
    "Average with unit weights"
   ]
  },
  {
   "cell_type": "code",
   "execution_count": 6,
   "id": "c72fdee4",
   "metadata": {},
   "outputs": [
    {
     "name": "stderr",
     "output_type": "stream",
     "text": [
      "C:\\Users\\genef\\Documents\\GitHub\\carbondiet\\notebooks\\tests\\../..\\project\\Recipes\\recipes.py:250: UserWarning: The ingredient 'Spaghetti' with unit 'g' has no matching entry in the quantity conversion table.\n",
      "  warnings.warn(\"The ingredient '\" + ingredient.name + \"' with unit '\" + self.quantities[idx]['unit']\n",
      "C:\\Users\\genef\\Documents\\GitHub\\carbondiet\\notebooks\\tests\\../..\\project\\Recipes\\recipes.py:250: UserWarning: The ingredient 'Spaghetti' with unit 'g' has no matching entry in the quantity conversion table.\n",
      "  warnings.warn(\"The ingredient '\" + ingredient.name + \"' with unit '\" + self.quantities[idx]['unit']\n",
      "C:\\Users\\genef\\Documents\\GitHub\\carbondiet\\notebooks\\tests\\../..\\project\\Recipes\\recipes.py:263: UserWarning: All quantities must be expressed in kg. The recipe score cannot be calculated\n",
      "  warnings.warn(\"All quantities must be expressed in kg. The recipe score cannot be calculated\")\n"
     ]
    }
   ],
   "source": [
    "new_recipe = Recipe()\n",
    "new_recipe.average_from_recipes([recipe1, recipe2])"
   ]
  },
  {
   "cell_type": "code",
   "execution_count": 7,
   "id": "d512ea0f",
   "metadata": {},
   "outputs": [
    {
     "data": {
      "text/plain": [
       "[('Boeuf', {'quantity': 0.07500000000000001, 'unit': 'kg'}),\n",
       " ('Riz', {'quantity': 0.0625, 'unit': 'kg'}),\n",
       " ('Carotte', {'quantity': 0.0625, 'unit': 'kg'}),\n",
       " ('Spaghetti', {'quantity': 100.0, 'unit': 'g'})]"
      ]
     },
     "execution_count": 7,
     "metadata": {},
     "output_type": "execute_result"
    }
   ],
   "source": [
    "[(ing.name, qty) for ing, qty in zip(new_recipe.ingredients, new_recipe.quantities)]"
   ]
  },
  {
   "cell_type": "markdown",
   "id": "17b01dcb",
   "metadata": {},
   "source": [
    "Average with other weights"
   ]
  },
  {
   "cell_type": "code",
   "execution_count": 8,
   "id": "a84627db",
   "metadata": {},
   "outputs": [
    {
     "name": "stderr",
     "output_type": "stream",
     "text": [
      "C:\\Users\\genef\\Documents\\GitHub\\carbondiet\\notebooks\\tests\\../..\\project\\Recipes\\recipes.py:250: UserWarning: The ingredient 'Spaghetti' with unit 'g' has no matching entry in the quantity conversion table.\n",
      "  warnings.warn(\"The ingredient '\" + ingredient.name + \"' with unit '\" + self.quantities[idx]['unit']\n",
      "C:\\Users\\genef\\Documents\\GitHub\\carbondiet\\notebooks\\tests\\../..\\project\\Recipes\\recipes.py:250: UserWarning: The ingredient 'Spaghetti' with unit 'g' has no matching entry in the quantity conversion table.\n",
      "  warnings.warn(\"The ingredient '\" + ingredient.name + \"' with unit '\" + self.quantities[idx]['unit']\n",
      "C:\\Users\\genef\\Documents\\GitHub\\carbondiet\\notebooks\\tests\\../..\\project\\Recipes\\recipes.py:263: UserWarning: All quantities must be expressed in kg. The recipe score cannot be calculated\n",
      "  warnings.warn(\"All quantities must be expressed in kg. The recipe score cannot be calculated\")\n"
     ]
    }
   ],
   "source": [
    "new_recipe = Recipe()\n",
    "new_recipe.average_from_recipes([recipe1, recipe2], weight_list = [1, 0.5])"
   ]
  },
  {
   "cell_type": "code",
   "execution_count": 9,
   "id": "304b46cd",
   "metadata": {},
   "outputs": [
    {
     "data": {
      "text/plain": [
       "[('Boeuf', {'quantity': 0.0625, 'unit': 'kg'}),\n",
       " ('Riz', {'quantity': 0.0625, 'unit': 'kg'}),\n",
       " ('Carotte', {'quantity': 0.0625, 'unit': 'kg'}),\n",
       " ('Spaghetti', {'quantity': 50.0, 'unit': 'g'})]"
      ]
     },
     "execution_count": 9,
     "metadata": {},
     "output_type": "execute_result"
    }
   ],
   "source": [
    "[(ing.name, qty) for ing, qty in zip(new_recipe.ingredients, new_recipe.quantities)]"
   ]
  },
  {
   "cell_type": "markdown",
   "id": "d664c15c",
   "metadata": {},
   "source": [
    "If units are not the same, this should raise an error"
   ]
  },
  {
   "cell_type": "code",
   "execution_count": 10,
   "id": "e745b8c3",
   "metadata": {},
   "outputs": [
    {
     "data": {
      "text/plain": [
       "'\\nrecipe3 = Recipe()\\n\\nrecipe3.add_one_ingredient(\"Boeuf\", dict(quantity = 50, unit = \\'mg\\'))\\nrecipe3.add_one_ingredient(\"Spaghetti\", dict(quantity = 200, unit = \\'g\\'))\\n\\nnew_recipe = Recipe()\\nnew_recipe.average_from_recipes([recipe1, recipe3])\\n'"
      ]
     },
     "execution_count": 10,
     "metadata": {},
     "output_type": "execute_result"
    }
   ],
   "source": [
    "'''\n",
    "recipe3 = Recipe()\n",
    "\n",
    "recipe3.add_one_ingredient(\"Boeuf\", dict(quantity = 50, unit = 'mg'))\n",
    "recipe3.add_one_ingredient(\"Spaghetti\", dict(quantity = 200, unit = 'g'))\n",
    "\n",
    "new_recipe = Recipe()\n",
    "new_recipe.average_from_recipes([recipe1, recipe3])\n",
    "'''"
   ]
  },
  {
   "cell_type": "markdown",
   "id": "052f197e",
   "metadata": {},
   "source": [
    "## Test extract_recipe in class Jow"
   ]
  },
  {
   "cell_type": "code",
   "execution_count": 11,
   "id": "3fcaa3ce",
   "metadata": {},
   "outputs": [],
   "source": [
    "jow = Jow()"
   ]
  },
  {
   "cell_type": "code",
   "execution_count": 12,
   "id": "790516f6",
   "metadata": {},
   "outputs": [
    {
     "data": {
      "text/html": [
       "<div>\n",
       "<style scoped>\n",
       "    .dataframe tbody tr th:only-of-type {\n",
       "        vertical-align: middle;\n",
       "    }\n",
       "\n",
       "    .dataframe tbody tr th {\n",
       "        vertical-align: top;\n",
       "    }\n",
       "\n",
       "    .dataframe thead th {\n",
       "        text-align: right;\n",
       "    }\n",
       "</style>\n",
       "<table border=\"1\" class=\"dataframe\">\n",
       "  <thead>\n",
       "    <tr style=\"text-align: right;\">\n",
       "      <th></th>\n",
       "      <th>cuisson</th>\n",
       "      <th>ingredients_with_quantity</th>\n",
       "      <th>recipe_name</th>\n",
       "      <th>simple_ingredients_with_quantity</th>\n",
       "      <th>ingredients</th>\n",
       "      <th>name_with_ingredients</th>\n",
       "    </tr>\n",
       "  </thead>\n",
       "  <tbody>\n",
       "    <tr>\n",
       "      <th>Yakitori bœuf fromage</th>\n",
       "      <td>10 minutes</td>\n",
       "      <td>[[80 g, Bœuf (carpaccio)], [100 g, Emmental], [1 càs, Sauce Teriyaki], [70 g, Riz], [6, Pics à brochette]]</td>\n",
       "      <td>Yakitori bœuf fromage</td>\n",
       "      <td>[[Boeuf, Emmental, Sauce Teriyaki, Riz], [80 g, 100 g, 1 càs, 70 g]]</td>\n",
       "      <td>[Boeuf, Emmental, Sauce Teriyaki, Riz]</td>\n",
       "      <td>Yakitori bœuf fromage, Boeuf, Emmental, Sauce Teriyaki, Riz</td>\n",
       "    </tr>\n",
       "    <tr>\n",
       "      <th>Gnocchis Epinards Gorgonzola</th>\n",
       "      <td>5 minutes</td>\n",
       "      <td>[[150 g, Gnocchi], [100 g, Epinard (frais)], [30 g, Gorgonzola], [5 cl, Crème liquide]]</td>\n",
       "      <td>Gnocchis Epinards Gorgonzola</td>\n",
       "      <td>[[Gnocchi, Epinard, Gorgonzola, Crème liquide], [150 g, 100 g, 30 g, 5 cl]]</td>\n",
       "      <td>[Gnocchi, Epinard, Gorgonzola, Crème liquide]</td>\n",
       "      <td>Gnocchis Epinards Gorgonzola, Gnocchi, Epinard, Gorgonzola, Crème liquide</td>\n",
       "    </tr>\n",
       "    <tr>\n",
       "      <th>Dahl de lentilles corail</th>\n",
       "      <td>plat froid</td>\n",
       "      <td>[[50 g, Lentilles corail], [80 g, Tomate (chair)], [5 cl, Lait de coco], [1/2 gou., Ail]]</td>\n",
       "      <td>Dahl de lentilles corail</td>\n",
       "      <td>[[Lentilles corail, Tomate, Lait de coco, Ail], [50 g, 80 g, 5 cl, 1/2 gou.]]</td>\n",
       "      <td>[Lentilles corail, Tomate, Lait de coco, Ail]</td>\n",
       "      <td>Dahl de lentilles corail, Lentilles corail, Tomate, Lait de coco, Ail</td>\n",
       "    </tr>\n",
       "    <tr>\n",
       "      <th>Veggie lasagna</th>\n",
       "      <td>50 minutes</td>\n",
       "      <td>[[50 g, Lasagnes (cru)], [150 g, Courgette], [150 g, Tomate (purée)], [80 g, Champignons de Paris (frais)], [1/2, Mozzarella (boule)]]</td>\n",
       "      <td>Veggie lasagna</td>\n",
       "      <td>[[Lasagnes, Courgette, Tomate, Champignons de Paris, Mozzarella], [50 g, 150 g, 150 g, 80 g, 1/2]]</td>\n",
       "      <td>[Lasagnes, Courgette, Tomate, Champignons de Paris, Mozzarella]</td>\n",
       "      <td>Veggie lasagna, Lasagnes, Courgette, Tomate, Champignons de Paris, Mozzarella</td>\n",
       "    </tr>\n",
       "    <tr>\n",
       "      <th>Pasta alla carbonara</th>\n",
       "      <td>9 minutes</td>\n",
       "      <td>[[100 g, Pâtes (spaghetti)], [3 tran., Pancetta], [1, Œuf], [40 g, Parmesan (morceaux)]]</td>\n",
       "      <td>Pasta alla carbonara</td>\n",
       "      <td>[[Pâtes, Pancetta, oeuf, Parmesan], [100 g, 3 tran., 1, 40 g]]</td>\n",
       "      <td>[Pâtes, Pancetta, oeuf, Parmesan]</td>\n",
       "      <td>Pasta alla carbonara, Pâtes, Pancetta, oeuf, Parmesan</td>\n",
       "    </tr>\n",
       "    <tr>\n",
       "      <th>...</th>\n",
       "      <td>...</td>\n",
       "      <td>...</td>\n",
       "      <td>...</td>\n",
       "      <td>...</td>\n",
       "      <td>...</td>\n",
       "      <td>...</td>\n",
       "    </tr>\n",
       "    <tr>\n",
       "      <th>Taco shells au bœuf</th>\n",
       "      <td>12 minutes</td>\n",
       "      <td>[[3, Taco kit], [100 g, Bœuf (haché)], [1/4, Oignon rouge], [1 càs, Crème fraîche épaisse], [10 g, Cheddar (râpé)], [1/4, Citron vert], [1 poignée, Salade (coeur de laitue)]]</td>\n",
       "      <td>Taco shells au bœuf</td>\n",
       "      <td>[[Taco kit, Boeuf, Oignon rouge, Crème fraîche épaisse, Cheddar, Citron vert, Salade], [3, 100 g, 1/4, 1 càs, 10 g, 1/4, 1 poignée]]</td>\n",
       "      <td>[Taco kit, Boeuf, Oignon rouge, Crème fraîche épaisse, Cheddar, Citron vert, Salade]</td>\n",
       "      <td>Taco shells au bœuf, Taco kit, Boeuf, Oignon rouge, Crème fraîche épaisse, Cheddar, Citron vert, Salade</td>\n",
       "    </tr>\n",
       "    <tr>\n",
       "      <th>Crousti'Taco</th>\n",
       "      <td>17 minutes</td>\n",
       "      <td>[[2, Crousti' taco kit], [100 g, Bœuf (haché)], [1/4, Oignon jaune], [1/2, Avocat], [1 poignée, Salade (coeur de laitue)], [1, Tomate], [15 g, Fromage râpé]]</td>\n",
       "      <td>Crousti'Taco</td>\n",
       "      <td>[[Crousti' taco kit, Boeuf, Oignon jaune, Avocat, Salade, Tomate, Fromage râpé], [2, 100 g, 1/4, 1/2, 1 poignée, 1, 15 g]]</td>\n",
       "      <td>[Crousti' taco kit, Boeuf, Oignon jaune, Avocat, Salade, Tomate, Fromage râpé]</td>\n",
       "      <td>Crousti'Taco, Crousti' taco kit, Boeuf, Oignon jaune, Avocat, Salade, Tomate, Fromage râpé</td>\n",
       "    </tr>\n",
       "    <tr>\n",
       "      <th>Granité à la grenadine</th>\n",
       "      <td>3 heures</td>\n",
       "      <td>[[2 cl, Grenadine]]</td>\n",
       "      <td>Granité à la grenadine</td>\n",
       "      <td>[[Grenadine], [2 cl]]</td>\n",
       "      <td>[Grenadine]</td>\n",
       "      <td>Granité à la grenadine, Grenadine</td>\n",
       "    </tr>\n",
       "    <tr>\n",
       "      <th>Granité à la pêche</th>\n",
       "      <td>3 heures</td>\n",
       "      <td>[[2 cl, Sirop de pêche]]</td>\n",
       "      <td>Granité à la pêche</td>\n",
       "      <td>[[Sirop de pêche], [2 cl]]</td>\n",
       "      <td>[Sirop de pêche]</td>\n",
       "      <td>Granité à la pêche, Sirop de pêche</td>\n",
       "    </tr>\n",
       "    <tr>\n",
       "      <th>Granité à la menthe</th>\n",
       "      <td>3 heures</td>\n",
       "      <td>[[2 cl, Sirop de menthe]]</td>\n",
       "      <td>Granité à la menthe</td>\n",
       "      <td>[[Sirop de menthe], [2 cl]]</td>\n",
       "      <td>[Sirop de menthe]</td>\n",
       "      <td>Granité à la menthe, Sirop de menthe</td>\n",
       "    </tr>\n",
       "  </tbody>\n",
       "</table>\n",
       "<p>1406 rows × 6 columns</p>\n",
       "</div>"
      ],
      "text/plain": [
       "                                 cuisson  \\\n",
       "Yakitori bœuf fromage         10 minutes   \n",
       "Gnocchis Epinards Gorgonzola   5 minutes   \n",
       "Dahl de lentilles corail      plat froid   \n",
       "Veggie lasagna                50 minutes   \n",
       "Pasta alla carbonara           9 minutes   \n",
       "...                                  ...   \n",
       "Taco shells au bœuf           12 minutes   \n",
       "Crousti'Taco                  17 minutes   \n",
       "Granité à la grenadine          3 heures   \n",
       "Granité à la pêche              3 heures   \n",
       "Granité à la menthe             3 heures   \n",
       "\n",
       "                                                                                                                                                                                   ingredients_with_quantity  \\\n",
       "Yakitori bœuf fromage                                                                             [[80 g, Bœuf (carpaccio)], [100 g, Emmental], [1 càs, Sauce Teriyaki], [70 g, Riz], [6, Pics à brochette]]   \n",
       "Gnocchis Epinards Gorgonzola                                                                                         [[150 g, Gnocchi], [100 g, Epinard (frais)], [30 g, Gorgonzola], [5 cl, Crème liquide]]   \n",
       "Dahl de lentilles corail                                                                                           [[50 g, Lentilles corail], [80 g, Tomate (chair)], [5 cl, Lait de coco], [1/2 gou., Ail]]   \n",
       "Veggie lasagna                                                        [[50 g, Lasagnes (cru)], [150 g, Courgette], [150 g, Tomate (purée)], [80 g, Champignons de Paris (frais)], [1/2, Mozzarella (boule)]]   \n",
       "Pasta alla carbonara                                                                                                [[100 g, Pâtes (spaghetti)], [3 tran., Pancetta], [1, Œuf], [40 g, Parmesan (morceaux)]]   \n",
       "...                                                                                                                                                                                                      ...   \n",
       "Taco shells au bœuf           [[3, Taco kit], [100 g, Bœuf (haché)], [1/4, Oignon rouge], [1 càs, Crème fraîche épaisse], [10 g, Cheddar (râpé)], [1/4, Citron vert], [1 poignée, Salade (coeur de laitue)]]   \n",
       "Crousti'Taco                                   [[2, Crousti' taco kit], [100 g, Bœuf (haché)], [1/4, Oignon jaune], [1/2, Avocat], [1 poignée, Salade (coeur de laitue)], [1, Tomate], [15 g, Fromage râpé]]   \n",
       "Granité à la grenadine                                                                                                                                                                   [[2 cl, Grenadine]]   \n",
       "Granité à la pêche                                                                                                                                                                  [[2 cl, Sirop de pêche]]   \n",
       "Granité à la menthe                                                                                                                                                                [[2 cl, Sirop de menthe]]   \n",
       "\n",
       "                                               recipe_name  \\\n",
       "Yakitori bœuf fromage                Yakitori bœuf fromage   \n",
       "Gnocchis Epinards Gorgonzola  Gnocchis Epinards Gorgonzola   \n",
       "Dahl de lentilles corail          Dahl de lentilles corail   \n",
       "Veggie lasagna                              Veggie lasagna   \n",
       "Pasta alla carbonara                  Pasta alla carbonara   \n",
       "...                                                    ...   \n",
       "Taco shells au bœuf                    Taco shells au bœuf   \n",
       "Crousti'Taco                                  Crousti'Taco   \n",
       "Granité à la grenadine              Granité à la grenadine   \n",
       "Granité à la pêche                      Granité à la pêche   \n",
       "Granité à la menthe                    Granité à la menthe   \n",
       "\n",
       "                                                                                                                                  simple_ingredients_with_quantity  \\\n",
       "Yakitori bœuf fromage                                                                         [[Boeuf, Emmental, Sauce Teriyaki, Riz], [80 g, 100 g, 1 càs, 70 g]]   \n",
       "Gnocchis Epinards Gorgonzola                                                           [[Gnocchi, Epinard, Gorgonzola, Crème liquide], [150 g, 100 g, 30 g, 5 cl]]   \n",
       "Dahl de lentilles corail                                                             [[Lentilles corail, Tomate, Lait de coco, Ail], [50 g, 80 g, 5 cl, 1/2 gou.]]   \n",
       "Veggie lasagna                                                  [[Lasagnes, Courgette, Tomate, Champignons de Paris, Mozzarella], [50 g, 150 g, 150 g, 80 g, 1/2]]   \n",
       "Pasta alla carbonara                                                                                [[Pâtes, Pancetta, oeuf, Parmesan], [100 g, 3 tran., 1, 40 g]]   \n",
       "...                                                                                                                                                            ...   \n",
       "Taco shells au bœuf           [[Taco kit, Boeuf, Oignon rouge, Crème fraîche épaisse, Cheddar, Citron vert, Salade], [3, 100 g, 1/4, 1 càs, 10 g, 1/4, 1 poignée]]   \n",
       "Crousti'Taco                            [[Crousti' taco kit, Boeuf, Oignon jaune, Avocat, Salade, Tomate, Fromage râpé], [2, 100 g, 1/4, 1/2, 1 poignée, 1, 15 g]]   \n",
       "Granité à la grenadine                                                                                                                       [[Grenadine], [2 cl]]   \n",
       "Granité à la pêche                                                                                                                      [[Sirop de pêche], [2 cl]]   \n",
       "Granité à la menthe                                                                                                                    [[Sirop de menthe], [2 cl]]   \n",
       "\n",
       "                                                                                                       ingredients  \\\n",
       "Yakitori bœuf fromage                                                       [Boeuf, Emmental, Sauce Teriyaki, Riz]   \n",
       "Gnocchis Epinards Gorgonzola                                         [Gnocchi, Epinard, Gorgonzola, Crème liquide]   \n",
       "Dahl de lentilles corail                                             [Lentilles corail, Tomate, Lait de coco, Ail]   \n",
       "Veggie lasagna                                     [Lasagnes, Courgette, Tomate, Champignons de Paris, Mozzarella]   \n",
       "Pasta alla carbonara                                                             [Pâtes, Pancetta, oeuf, Parmesan]   \n",
       "...                                                                                                            ...   \n",
       "Taco shells au bœuf           [Taco kit, Boeuf, Oignon rouge, Crème fraîche épaisse, Cheddar, Citron vert, Salade]   \n",
       "Crousti'Taco                        [Crousti' taco kit, Boeuf, Oignon jaune, Avocat, Salade, Tomate, Fromage râpé]   \n",
       "Granité à la grenadine                                                                                 [Grenadine]   \n",
       "Granité à la pêche                                                                                [Sirop de pêche]   \n",
       "Granité à la menthe                                                                              [Sirop de menthe]   \n",
       "\n",
       "                                                                                                                name_with_ingredients  \n",
       "Yakitori bœuf fromage                                                     Yakitori bœuf fromage, Boeuf, Emmental, Sauce Teriyaki, Riz  \n",
       "Gnocchis Epinards Gorgonzola                                Gnocchis Epinards Gorgonzola, Gnocchi, Epinard, Gorgonzola, Crème liquide  \n",
       "Dahl de lentilles corail                                        Dahl de lentilles corail, Lentilles corail, Tomate, Lait de coco, Ail  \n",
       "Veggie lasagna                                          Veggie lasagna, Lasagnes, Courgette, Tomate, Champignons de Paris, Mozzarella  \n",
       "Pasta alla carbonara                                                            Pasta alla carbonara, Pâtes, Pancetta, oeuf, Parmesan  \n",
       "...                                                                                                                               ...  \n",
       "Taco shells au bœuf           Taco shells au bœuf, Taco kit, Boeuf, Oignon rouge, Crème fraîche épaisse, Cheddar, Citron vert, Salade  \n",
       "Crousti'Taco                               Crousti'Taco, Crousti' taco kit, Boeuf, Oignon jaune, Avocat, Salade, Tomate, Fromage râpé  \n",
       "Granité à la grenadine                                                                              Granité à la grenadine, Grenadine  \n",
       "Granité à la pêche                                                                                 Granité à la pêche, Sirop de pêche  \n",
       "Granité à la menthe                                                                              Granité à la menthe, Sirop de menthe  \n",
       "\n",
       "[1406 rows x 6 columns]"
      ]
     },
     "execution_count": 12,
     "metadata": {},
     "output_type": "execute_result"
    }
   ],
   "source": [
    "pd.set_option('display.max_colwidth', None)\n",
    "jow.df"
   ]
  },
  {
   "cell_type": "code",
   "execution_count": 13,
   "id": "e6a024e8",
   "metadata": {},
   "outputs": [],
   "source": [
    "jow_recipe = jow.extract_recipe(\"Spaghetti endives & prosciutto\")"
   ]
  },
  {
   "cell_type": "code",
   "execution_count": 14,
   "id": "0b357899",
   "metadata": {},
   "outputs": [
    {
     "data": {
      "text/plain": [
       "[('Pâtes', {'quantity': 100.0, 'unit': 'g'}),\n",
       " ('Endives', {'quantity': 100.0, 'unit': 'g'}),\n",
       " ('Jambon cru', {'quantity': 1.0, 'unit': 'tran.'}),\n",
       " ('Parmesan', {'quantity': 0.5, 'unit': 'càs'}),\n",
       " ('Sucre', {'quantity': 1.0, 'unit': 'càc'})]"
      ]
     },
     "execution_count": 14,
     "metadata": {},
     "output_type": "execute_result"
    }
   ],
   "source": [
    "[(ing.name, qty) for ing, qty in zip(jow_recipe.ingredients, jow_recipe.quantities)]"
   ]
  },
  {
   "cell_type": "markdown",
   "id": "1df24c96",
   "metadata": {},
   "source": [
    "## Test convert_quantities_in_kg in class Recipe"
   ]
  },
  {
   "cell_type": "code",
   "execution_count": 15,
   "id": "af70a11e",
   "metadata": {},
   "outputs": [
    {
     "data": {
      "text/plain": [
       "[('Pâtes', {'quantity': 0.1, 'unit': 'kg'}),\n",
       " ('Endives', {'quantity': 0.1, 'unit': 'kg'}),\n",
       " ('Jambon cru', {'quantity': 0.0225, 'unit': 'kg'}),\n",
       " ('Parmesan', {'quantity': 0.0075, 'unit': 'kg'}),\n",
       " ('Sucre', {'quantity': 0.005, 'unit': 'kg'})]"
      ]
     },
     "execution_count": 15,
     "metadata": {},
     "output_type": "execute_result"
    }
   ],
   "source": [
    "jow_recipe.convert_quantities_in_kg()\n",
    "[(ing.name, qty) for ing, qty in zip(jow_recipe.ingredients, jow_recipe.quantities)]"
   ]
  },
  {
   "cell_type": "markdown",
   "id": "be34263b",
   "metadata": {},
   "source": [
    "## Test add_agribalyse_infos in class Ingredient"
   ]
  },
  {
   "cell_type": "code",
   "execution_count": 16,
   "id": "5f0dd979",
   "metadata": {},
   "outputs": [
    {
     "name": "stdout",
     "output_type": "stream",
     "text": [
      "Pâtes\n",
      "['Pâtes fraîches', 'Pâtes sèches standard', 'Pâtes sèches']\n",
      "0.2231780244\n",
      "****\n",
      "Endives\n",
      "['Endive']\n",
      "0.12101369000000001\n",
      "****\n",
      "Jambon cru\n",
      "['Jambon cru']\n",
      "1.9785153\n",
      "****\n",
      "Parmesan\n",
      "['Parmesan']\n",
      "0.59113205\n",
      "****\n",
      "Sucre\n",
      "['Sucre vanillé', 'Sucre roux', 'Sucre blanc']\n",
      "0.2129693567\n",
      "****\n"
     ]
    }
   ],
   "source": [
    "for ing in jow_recipe.ingredients:\n",
    "    ing.add_agribalyse_infos()\n",
    "    print(ing.name)\n",
    "    print(ing.agribalyse_ingredients)\n",
    "    print(ing.pef_score)\n",
    "    print(\"****\")"
   ]
  },
  {
   "cell_type": "markdown",
   "id": "d7588980",
   "metadata": {},
   "source": [
    "Test for an ingredient that is not in the JOW database"
   ]
  },
  {
   "cell_type": "code",
   "execution_count": 17,
   "id": "5acdd82e",
   "metadata": {},
   "outputs": [
    {
     "name": "stdout",
     "output_type": "stream",
     "text": [
      "no match\n",
      "nan\n"
     ]
    },
    {
     "name": "stderr",
     "output_type": "stream",
     "text": [
      "C:\\Users\\genef\\Documents\\GitHub\\carbondiet\\notebooks\\tests\\../..\\project\\Recipes\\recipes.py:171: UserWarning: The ingredient 'ing non existant' cannot be matched with any of the Agribalyse ingredients.\n",
      "  warnings.warn(\"The ingredient '\" + self.name + \"' cannot be matched with any of the Agribalyse ingredients.\")\n"
     ]
    }
   ],
   "source": [
    "ing_test = Ingredient('ing non existant')\n",
    "ing_test.add_agribalyse_infos()\n",
    "print(ing_test.agribalyse_ingredients)\n",
    "print(ing_test.pef_score)"
   ]
  },
  {
   "cell_type": "markdown",
   "id": "f5e8816c",
   "metadata": {},
   "source": [
    "Test for an ingredient that is in the JOW database but for which there is no match with Agribalyse ingredients"
   ]
  },
  {
   "cell_type": "code",
   "execution_count": 18,
   "id": "a8a4550e",
   "metadata": {},
   "outputs": [
    {
     "name": "stdout",
     "output_type": "stream",
     "text": [
      "no match\n",
      "nan\n"
     ]
    },
    {
     "name": "stderr",
     "output_type": "stream",
     "text": [
      "C:\\Users\\genef\\Documents\\GitHub\\carbondiet\\notebooks\\tests\\../..\\project\\Recipes\\recipes.py:171: UserWarning: The ingredient 'Chapelure' cannot be matched with any of the Agribalyse ingredients.\n",
      "  warnings.warn(\"The ingredient '\" + self.name + \"' cannot be matched with any of the Agribalyse ingredients.\")\n"
     ]
    }
   ],
   "source": [
    "ing_test = Ingredient('Chapelure')\n",
    "ing_test.add_agribalyse_infos()\n",
    "print(ing_test.agribalyse_ingredients)\n",
    "print(ing_test.pef_score)"
   ]
  },
  {
   "cell_type": "markdown",
   "id": "b20bd518",
   "metadata": {},
   "source": [
    "## Test compute_score of class Recipe"
   ]
  },
  {
   "cell_type": "markdown",
   "id": "6fc1da3c",
   "metadata": {},
   "source": [
    "Test for one recipe whose one ingredient cannot be expressed in kg"
   ]
  },
  {
   "cell_type": "code",
   "execution_count": 19,
   "id": "d6aba5d4",
   "metadata": {},
   "outputs": [
    {
     "data": {
      "text/plain": [
       "[(\"Crousti' taco kit\", {'quantity': 2.0, 'unit': 'unitaire'}),\n",
       " ('Boeuf', {'quantity': 100.0, 'unit': 'g'}),\n",
       " ('Oignon jaune', {'quantity': 0.25, 'unit': 'unitaire'}),\n",
       " ('Avocat', {'quantity': 0.5, 'unit': 'unitaire'}),\n",
       " ('Salade', {'quantity': 1.0, 'unit': 'poignée'}),\n",
       " ('Tomate', {'quantity': 1.0, 'unit': 'unitaire'}),\n",
       " ('Fromage râpé', {'quantity': 15.0, 'unit': 'g'})]"
      ]
     },
     "execution_count": 19,
     "metadata": {},
     "output_type": "execute_result"
    }
   ],
   "source": [
    "jow_recipe = jow.extract_recipe(\"Crousti'Taco\")\n",
    "[(ing.name, qty) for ing, qty in zip(jow_recipe.ingredients, jow_recipe.quantities)]"
   ]
  },
  {
   "cell_type": "code",
   "execution_count": 20,
   "id": "10473cf6",
   "metadata": {},
   "outputs": [
    {
     "name": "stderr",
     "output_type": "stream",
     "text": [
      "C:\\Users\\genef\\Documents\\GitHub\\carbondiet\\notebooks\\tests\\../..\\project\\Recipes\\recipes.py:250: UserWarning: The ingredient 'Salade' with unit 'poignée' has no matching entry in the quantity conversion table.\n",
      "  warnings.warn(\"The ingredient '\" + ingredient.name + \"' with unit '\" + self.quantities[idx]['unit']\n",
      "C:\\Users\\genef\\Documents\\GitHub\\carbondiet\\notebooks\\tests\\../..\\project\\Recipes\\recipes.py:263: UserWarning: All quantities must be expressed in kg. The recipe score cannot be calculated\n",
      "  warnings.warn(\"All quantities must be expressed in kg. The recipe score cannot be calculated\")\n"
     ]
    }
   ],
   "source": [
    "jow_recipe.compute_score()"
   ]
  },
  {
   "cell_type": "code",
   "execution_count": 21,
   "id": "51bc8e73",
   "metadata": {},
   "outputs": [
    {
     "data": {
      "text/plain": [
       "nan"
      ]
     },
     "execution_count": 21,
     "metadata": {},
     "output_type": "execute_result"
    }
   ],
   "source": [
    "jow_recipe.score_from_pefs"
   ]
  },
  {
   "cell_type": "markdown",
   "id": "9d0a9ecc",
   "metadata": {},
   "source": [
    "Test for another recipe"
   ]
  },
  {
   "cell_type": "code",
   "execution_count": 22,
   "id": "a1a754ec",
   "metadata": {},
   "outputs": [
    {
     "data": {
      "text/plain": [
       "[('Boeuf', {'quantity': 80.0, 'unit': 'g'}),\n",
       " ('Emmental', {'quantity': 100.0, 'unit': 'g'}),\n",
       " ('Sauce Teriyaki', {'quantity': 1.0, 'unit': 'càs'}),\n",
       " ('Riz', {'quantity': 70.0, 'unit': 'g'})]"
      ]
     },
     "execution_count": 22,
     "metadata": {},
     "output_type": "execute_result"
    }
   ],
   "source": [
    "jow_recipe = jow.extract_recipe(\"Yakitori bœuf fromage\")\n",
    "[(ing.name, qty) for ing, qty in zip(jow_recipe.ingredients, jow_recipe.quantities)]"
   ]
  },
  {
   "cell_type": "code",
   "execution_count": 23,
   "id": "9a44a261",
   "metadata": {},
   "outputs": [
    {
     "data": {
      "text/plain": [
       "0.388533294465"
      ]
     },
     "execution_count": 23,
     "metadata": {},
     "output_type": "execute_result"
    }
   ],
   "source": [
    "jow_recipe.compute_score()\n",
    "jow_recipe.score_from_pefs"
   ]
  },
  {
   "cell_type": "code",
   "execution_count": 24,
   "id": "91a683d5",
   "metadata": {},
   "outputs": [
    {
     "name": "stdout",
     "output_type": "stream",
     "text": [
      "Boeuf\n",
      "['Boeuf']\n",
      "3.242932402\n",
      "****\n",
      "Emmental\n",
      "['Emmental ou emmenthal râpé', 'Emmental ou emmenthal']\n",
      "0.593099005\n",
      "****\n",
      "Sauce Teriyaki\n",
      "['Sauce soja']\n",
      "0.099202987\n",
      "****\n",
      "Riz\n",
      "['Riz']\n",
      "0.9757250999999999\n",
      "****\n"
     ]
    }
   ],
   "source": [
    "for ing in jow_recipe.ingredients:\n",
    "    ing.add_agribalyse_infos()\n",
    "    print(ing.name)\n",
    "    print(ing.agribalyse_ingredients)\n",
    "    print(ing.pef_score)\n",
    "    print(\"****\")"
   ]
  },
  {
   "cell_type": "code",
   "execution_count": 25,
   "id": "d9fec474",
   "metadata": {},
   "outputs": [
    {
     "data": {
      "text/plain": [
       "[('Boeuf', {'quantity': 0.08, 'unit': 'kg'}, 0.668),\n",
       " ('Emmental', {'quantity': 0.1, 'unit': 'kg'}, 0.153),\n",
       " ('Sauce Teriyaki', {'quantity': 0.015, 'unit': 'kg'}, 0.004),\n",
       " ('Riz', {'quantity': 0.07, 'unit': 'kg'}, 0.176)]"
      ]
     },
     "execution_count": 25,
     "metadata": {},
     "output_type": "execute_result"
    }
   ],
   "source": [
    "[(ing.name, qty, np.round(s, 3)) for ing, qty, s in zip(jow_recipe.ingredients, jow_recipe.quantities, jow_recipe.score_contributions)]"
   ]
  },
  {
   "cell_type": "code",
   "execution_count": 26,
   "id": "00b6f9c3",
   "metadata": {},
   "outputs": [
    {
     "data": {
      "text/plain": [
       "0.388533294465"
      ]
     },
     "execution_count": 26,
     "metadata": {},
     "output_type": "execute_result"
    }
   ],
   "source": [
    "0.08*3.242932402+0.1*0.593099005+0.099202987*0.015+0.07*0.9757250999999999"
   ]
  },
  {
   "cell_type": "markdown",
   "id": "3622753f",
   "metadata": {},
   "source": [
    "Test for a recipe average"
   ]
  },
  {
   "cell_type": "code",
   "execution_count": 27,
   "id": "06820287",
   "metadata": {},
   "outputs": [],
   "source": [
    "jow_recipe_1 = jow.extract_recipe(\"Yakitori bœuf fromage\")\n",
    "jow_recipe_2 = jow.extract_recipe(\"Pasta alla carbonara\")\n",
    "\n",
    "new_recipe = Recipe()\n",
    "new_recipe.average_from_recipes([jow_recipe_1, jow_recipe_2], weight_list = [1, 1], threshold = 0)"
   ]
  },
  {
   "cell_type": "code",
   "execution_count": 28,
   "id": "9660b26f",
   "metadata": {},
   "outputs": [
    {
     "data": {
      "text/plain": [
       "[('Boeuf', {'quantity': 0.04, 'unit': 'kg'}),\n",
       " ('Emmental', {'quantity': 0.05, 'unit': 'kg'}),\n",
       " ('Sauce Teriyaki', {'quantity': 0.0075, 'unit': 'kg'}),\n",
       " ('Riz', {'quantity': 0.035, 'unit': 'kg'}),\n",
       " ('Pâtes', {'quantity': 0.05, 'unit': 'kg'}),\n",
       " ('Pancetta', {'quantity': 0.037500000000000006, 'unit': 'kg'}),\n",
       " ('oeuf', {'quantity': 0.03, 'unit': 'kg'}),\n",
       " ('Parmesan', {'quantity': 0.02, 'unit': 'kg'})]"
      ]
     },
     "execution_count": 28,
     "metadata": {},
     "output_type": "execute_result"
    }
   ],
   "source": [
    "[(ing.name, qty) for ing, qty in zip(new_recipe.ingredients, new_recipe.quantities)]"
   ]
  },
  {
   "cell_type": "code",
   "execution_count": 29,
   "id": "2ed26933",
   "metadata": {},
   "outputs": [
    {
     "name": "stdout",
     "output_type": "stream",
     "text": [
      "Boeuf\n",
      "['Boeuf']\n",
      "3.242932402\n",
      "****\n",
      "Emmental\n",
      "['Emmental ou emmenthal râpé', 'Emmental ou emmenthal']\n",
      "0.593099005\n",
      "****\n",
      "Sauce Teriyaki\n",
      "['Sauce soja']\n",
      "0.099202987\n",
      "****\n",
      "Riz\n",
      "['Riz']\n",
      "0.9757250999999999\n",
      "****\n",
      "Pâtes\n",
      "['Pâtes fraîches', 'Pâtes sèches standard', 'Pâtes sèches']\n",
      "0.2231780244\n",
      "****\n",
      "Pancetta\n",
      "['Pancetta ou Poitrine roulée sèche']\n",
      "2.4764319\n",
      "****\n",
      "oeuf\n",
      "['Oeuf']\n",
      "0.6198362415\n",
      "****\n",
      "Parmesan\n",
      "['Parmesan']\n",
      "0.59113205\n",
      "****\n"
     ]
    }
   ],
   "source": [
    "for ing in new_recipe.ingredients:\n",
    "    ing.add_agribalyse_infos()\n",
    "    print(ing.name)\n",
    "    print(ing.agribalyse_ingredients)\n",
    "    print(ing.pef_score)\n",
    "    print(\"****\")"
   ]
  },
  {
   "cell_type": "code",
   "execution_count": 30,
   "id": "f46a8e1e",
   "metadata": {},
   "outputs": [
    {
     "data": {
      "text/plain": [
       "0.3287094729475"
      ]
     },
     "execution_count": 30,
     "metadata": {},
     "output_type": "execute_result"
    }
   ],
   "source": [
    "new_recipe.compute_score()\n",
    "new_recipe.score_from_pefs"
   ]
  },
  {
   "cell_type": "code",
   "execution_count": 31,
   "id": "099f2165",
   "metadata": {},
   "outputs": [
    {
     "data": {
      "text/plain": [
       "[('Boeuf', {'quantity': 0.04, 'unit': 'kg'}, 0.395),\n",
       " ('Emmental', {'quantity': 0.05, 'unit': 'kg'}, 0.09),\n",
       " ('Sauce Teriyaki', {'quantity': 0.0075, 'unit': 'kg'}, 0.002),\n",
       " ('Riz', {'quantity': 0.035, 'unit': 'kg'}, 0.104),\n",
       " ('Pâtes', {'quantity': 0.05, 'unit': 'kg'}, 0.034),\n",
       " ('Pancetta', {'quantity': 0.037500000000000006, 'unit': 'kg'}, 0.283),\n",
       " ('oeuf', {'quantity': 0.03, 'unit': 'kg'}, 0.057),\n",
       " ('Parmesan', {'quantity': 0.02, 'unit': 'kg'}, 0.036)]"
      ]
     },
     "execution_count": 31,
     "metadata": {},
     "output_type": "execute_result"
    }
   ],
   "source": [
    "[(ing.name, qty, np.round(s, 3)) for ing, qty, s in zip(new_recipe.ingredients, new_recipe.quantities, new_recipe.score_contributions)]"
   ]
  },
  {
   "cell_type": "code",
   "execution_count": 32,
   "id": "bd9f85b6",
   "metadata": {},
   "outputs": [
    {
     "name": "stdout",
     "output_type": "stream",
     "text": [
      "[('Pâtes', {'quantity': 120.0, 'unit': 'g'}), ('Parmesan', {'quantity': 15.0, 'unit': 'g'}), ('Vodka', {'quantity': 1.0, 'unit': 'càs'}), ('Crème liquide', {'quantity': 5.0, 'unit': 'cl'}), ('Tomate', {'quantity': 30.0, 'unit': 'g'}), ('Ail', {'quantity': 0.25, 'unit': 'gou.'})]\n",
      "[('Pâtes', {'quantity': 100.0, 'unit': 'g'}), ('Jambon cru', {'quantity': 2.0, 'unit': 'tran.'}), ('Crème liquide', {'quantity': 5.0, 'unit': 'cl'}), ('Ricotta', {'quantity': 0.5, 'unit': 'càs'}), ('oeuf', {'quantity': 1.0, 'unit': 'unitaire'}), ('Basilic', {'quantity': 0.1, 'unit': 'bou.'})]\n",
      "[('Pâtes', {'quantity': 100.0, 'unit': 'g'}), ('Endives', {'quantity': 100.0, 'unit': 'g'}), ('Jambon cru', {'quantity': 1.0, 'unit': 'tran.'}), ('Parmesan', {'quantity': 0.5, 'unit': 'càs'}), ('Sucre', {'quantity': 1.0, 'unit': 'càc'})]\n",
      "\n",
      "\n",
      "[('Pâtes', {'quantity': 0.10666666666666666, 'unit': 'kg'}), ('Parmesan', {'quantity': 0.0075, 'unit': 'kg'}), ('Vodka', {'quantity': 0.005, 'unit': 'kg'}), ('Crème liquide', {'quantity': 0.03333333333333333, 'unit': 'kg'}), ('Tomate', {'quantity': 0.01, 'unit': 'kg'}), ('Ail', {'quantity': 0.0069444444444444415, 'unit': 'kg'}), ('Jambon cru', {'quantity': 0.0225, 'unit': 'kg'}), ('Ricotta', {'quantity': 0.0025, 'unit': 'kg'}), ('oeuf', {'quantity': 0.02, 'unit': 'kg'}), ('Basilic', {'quantity': 0.0013333333333333333, 'unit': 'kg'}), ('Endives', {'quantity': 0.03333333333333333, 'unit': 'kg'}), ('Sucre', {'quantity': 0.0016666666666666668, 'unit': 'kg'})]\n",
      "nan\n",
      "[nan, nan, nan, nan, nan, nan, nan, nan, nan, nan, nan, nan]\n"
     ]
    },
    {
     "name": "stderr",
     "output_type": "stream",
     "text": [
      "C:\\Users\\genef\\Documents\\GitHub\\carbondiet\\notebooks\\tests\\../..\\project\\Recipes\\recipes.py:171: UserWarning: The ingredient 'Ricotta' cannot be matched with any of the Agribalyse ingredients.\n",
      "  warnings.warn(\"The ingredient '\" + self.name + \"' cannot be matched with any of the Agribalyse ingredients.\")\n"
     ]
    }
   ],
   "source": [
    "jow_recipe_1 = jow.extract_recipe('Pasta alla vodka')\n",
    "jow_recipe_2 = jow.extract_recipe('Creamy Eggs & Prosciutto pasta')\n",
    "jow_recipe_3 = jow.extract_recipe('Spaghetti endives & prosciutto')\n",
    "\n",
    "print([(ing.name, qty) for ing, qty in zip(jow_recipe_1.ingredients, jow_recipe_1.quantities)])\n",
    "print([(ing.name, qty) for ing, qty in zip(jow_recipe_2.ingredients, jow_recipe_2.quantities)])\n",
    "print([(ing.name, qty) for ing, qty in zip(jow_recipe_3.ingredients, jow_recipe_3.quantities)])\n",
    "print('\\n')\n",
    "      \n",
    "average_recipe = Recipe()\n",
    "'''\n",
    "try:\n",
    "    average_recipe.average_from_recipes([jow_recipe_1, jow_recipe_2, jow_recipe_3], threshold = 0)\n",
    "    print('ici')\n",
    "except:\n",
    "    average_recipe.add_one_ingredient(\"Cannot be calculated\", dict(quantity = 0, unit = 'no unit'))\n",
    "    print('la')\n",
    "finally:\n",
    "    #res = [(ing.name, qty, np.round(s, 3)) for ing, qty, s in zip(average_recipe.ingredients, average_recipe.quantities, average_recipe.score_contributions)]\n",
    "    res = [(ing.name, qty) for ing, qty in zip(average_recipe.ingredients, average_recipe.quantities)]\n",
    "    print(res)\n",
    "'''\n",
    "average_recipe.average_from_recipes([jow_recipe_1, jow_recipe_2, jow_recipe_3], threshold = 0)\n",
    "res = [(ing.name, qty) for ing, qty in zip(average_recipe.ingredients, average_recipe.quantities)]\n",
    "print(res)\n",
    "print(average_recipe.score_from_pefs)\n",
    "print(average_recipe.score_contributions)"
   ]
  },
  {
   "cell_type": "code",
   "execution_count": 33,
   "id": "543e6113",
   "metadata": {},
   "outputs": [
    {
     "name": "stderr",
     "output_type": "stream",
     "text": [
      "C:\\Users\\genef\\Documents\\GitHub\\carbondiet\\notebooks\\tests\\../..\\project\\Recipes\\recipes.py:171: UserWarning: The ingredient 'Ricotta' cannot be matched with any of the Agribalyse ingredients.\n",
      "  warnings.warn(\"The ingredient '\" + self.name + \"' cannot be matched with any of the Agribalyse ingredients.\")\n"
     ]
    },
    {
     "data": {
      "text/plain": [
       "nan"
      ]
     },
     "execution_count": 33,
     "metadata": {},
     "output_type": "execute_result"
    }
   ],
   "source": [
    "jow_recipe = jow.extract_recipe('Pasta alla Norma')\n",
    "jow_recipe.compute_score()\n",
    "jow_recipe.score_from_pefs"
   ]
  },
  {
   "cell_type": "code",
   "execution_count": 34,
   "id": "f0523648",
   "metadata": {},
   "outputs": [
    {
     "name": "stderr",
     "output_type": "stream",
     "text": [
      "C:\\Users\\genef\\Documents\\GitHub\\carbondiet\\notebooks\\tests\\../..\\project\\Recipes\\recipes.py:171: UserWarning: The ingredient 'Olive noire' cannot be matched with any of the Agribalyse ingredients.\n",
      "  warnings.warn(\"The ingredient '\" + self.name + \"' cannot be matched with any of the Agribalyse ingredients.\")\n",
      "C:\\Users\\genef\\Documents\\GitHub\\carbondiet\\notebooks\\tests\\../..\\project\\Recipes\\recipes.py:171: UserWarning: The ingredient 'Câpres' cannot be matched with any of the Agribalyse ingredients.\n",
      "  warnings.warn(\"The ingredient '\" + self.name + \"' cannot be matched with any of the Agribalyse ingredients.\")\n"
     ]
    },
    {
     "data": {
      "text/plain": [
       "nan"
      ]
     },
     "execution_count": 34,
     "metadata": {},
     "output_type": "execute_result"
    }
   ],
   "source": [
    "jow_recipe = jow.extract_recipe('Spaghetti alla puttanesca')\n",
    "jow_recipe.compute_score()\n",
    "jow_recipe.score_from_pefs"
   ]
  },
  {
   "cell_type": "code",
   "execution_count": null,
   "id": "8559e0ff",
   "metadata": {},
   "outputs": [],
   "source": []
  },
  {
   "cell_type": "code",
   "execution_count": null,
   "id": "830bab4c",
   "metadata": {},
   "outputs": [],
   "source": []
  }
 ],
 "metadata": {
  "kernelspec": {
   "display_name": "Python 3 (ipykernel)",
   "language": "python",
   "name": "python3"
  },
  "language_info": {
   "codemirror_mode": {
    "name": "ipython",
    "version": 3
   },
   "file_extension": ".py",
   "mimetype": "text/x-python",
   "name": "python",
   "nbconvert_exporter": "python",
   "pygments_lexer": "ipython3",
   "version": "3.9.16"
  }
 },
 "nbformat": 4,
 "nbformat_minor": 5
}
