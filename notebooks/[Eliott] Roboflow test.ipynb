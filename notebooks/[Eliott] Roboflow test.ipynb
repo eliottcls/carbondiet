{
 "cells": [
  {
   "cell_type": "code",
   "execution_count": null,
   "metadata": {},
   "outputs": [],
   "source": [
    "from ultralytics import YOLO\n",
    "import cv2\n",
    "from IPython.display import display, Image\n",
    "import re"
   ]
  },
  {
   "cell_type": "code",
   "execution_count": null,
   "metadata": {},
   "outputs": [],
   "source": [
    "import pytesseract\n",
    "pytesseract.pytesseract.tesseract_cmd = r'C:\\Program Files (x86)\\Tesseract-OCR\\tesseract.exe'\n",
    "\n",
    "from paddleocr import PaddleOCR"
   ]
  },
  {
   "cell_type": "markdown",
   "metadata": {},
   "source": [
    "##### Import image to test"
   ]
  },
  {
   "cell_type": "code",
   "execution_count": null,
   "metadata": {},
   "outputs": [],
   "source": [
    "img = 'C:/Users/EliottCOLSON/OneDrive - Ekimetrics/Documents/carbondiet/data/images/menu2.png'\n",
    "image = cv2.imread(img)"
   ]
  },
  {
   "cell_type": "markdown",
   "metadata": {},
   "source": [
    "### Run box detection model"
   ]
  },
  {
   "cell_type": "code",
   "execution_count": null,
   "metadata": {},
   "outputs": [],
   "source": [
    "model = YOLO('../data/weights/best_v5.pt')"
   ]
  },
  {
   "cell_type": "code",
   "execution_count": null,
   "metadata": {},
   "outputs": [],
   "source": [
    "results = model(source=img)"
   ]
  },
  {
   "cell_type": "code",
   "execution_count": null,
   "metadata": {},
   "outputs": [],
   "source": [
    "res_plotted = results[0].plot()\n",
    "cv2.imshow(\"result\", res_plotted)\n",
    "cv2.waitKey(0)"
   ]
  },
  {
   "cell_type": "markdown",
   "metadata": {},
   "source": [
    "### Adjust box detection & section "
   ]
  },
  {
   "cell_type": "markdown",
   "metadata": {},
   "source": [
    "### Extract text from boxes"
   ]
  },
  {
   "cell_type": "code",
   "execution_count": null,
   "metadata": {},
   "outputs": [],
   "source": [
    "recipes_index = [i for i in range(len(results[0].boxes.cls)) if int(results[0].boxes.cls[i].item())==0]"
   ]
  },
  {
   "cell_type": "code",
   "execution_count": null,
   "metadata": {},
   "outputs": [],
   "source": [
    "list_text_tesseract = []\n",
    "for i in recipes_index:\n",
    "    box_coord = results[0].boxes.xywh[i]\n",
    "    x1 = (box_coord[0].item())\n",
    "    y1 = (box_coord[1].item())\n",
    "    w = int(box_coord[2].item())\n",
    "    h = int(box_coord[3].item())\n",
    "    x = int(x1 - (w / 2))\n",
    "    y = int(y1 - (h / 2))\n",
    "    ROI = image[y:y+h,x:x+w]\n",
    "    text = pytesseract.image_to_string(ROI, config='--psm 6')\n",
    "    list_text_tesseract.append(re.sub('[\\n|\\x0c]', '', text).lower())"
   ]
  },
  {
   "cell_type": "code",
   "execution_count": null,
   "metadata": {},
   "outputs": [],
   "source": [
    "list_text_tesseract"
   ]
  },
  {
   "cell_type": "code",
   "execution_count": null,
   "metadata": {},
   "outputs": [],
   "source": []
  },
  {
   "cell_type": "code",
   "execution_count": null,
   "metadata": {},
   "outputs": [],
   "source": [
    "ocr = PaddleOCR(use_angle_cls=True) # need to run only once to download and load model into memory"
   ]
  },
  {
   "cell_type": "code",
   "execution_count": null,
   "metadata": {},
   "outputs": [],
   "source": [
    "list_text_paddle = []\n",
    "for i in recipes_index:\n",
    "    box_coord = results[0].boxes.xywh[i]\n",
    "    x1 = (box_coord[0].item())\n",
    "    y1 = (box_coord[1].item())\n",
    "    w = int(box_coord[2].item())\n",
    "    h = int(box_coord[3].item())\n",
    "    x = int(x1 - (w / 2))\n",
    "    y = int(y1 - (h / 2))\n",
    "    ROI = image[y:y+h,x:x+w]\n",
    "    #text = pytesseract.image_to_string(ROI,lang=\"fra\", config='--psm 6')\n",
    "    #list_text.append(re.sub('[\\n|\\x0c]', '', text).lower())\n",
    "    result = ocr.ocr(ROI, cls=True)\n",
    "    list_text_paddle.append([x[1][0] for x in result[0]])\n",
    "\n",
    "list_text_paddle"
   ]
  },
  {
   "cell_type": "code",
   "execution_count": null,
   "metadata": {},
   "outputs": [],
   "source": []
  },
  {
   "cell_type": "code",
   "execution_count": null,
   "metadata": {},
   "outputs": [],
   "source": [
    "def is_contained(outer_box, inner_box):\n",
    "    x1, y1, w1, h1 = outer_box\n",
    "    x2, y2, w2, h2 = inner_box\n",
    "\n",
    "    if x2 >= x1 and y2 >= y1 and (x2 + w2) <= (x1 + w1) and (y2 + h2) <= (y1 + h1):\n",
    "        return True\n",
    "    else:\n",
    "        return False"
   ]
  },
  {
   "cell_type": "code",
   "execution_count": null,
   "metadata": {},
   "outputs": [],
   "source": []
  },
  {
   "cell_type": "code",
   "execution_count": null,
   "metadata": {},
   "outputs": [],
   "source": [
    "img = 'C:/Users/EliottCOLSON/OneDrive - Ekimetrics/Documents/carbondiet/data/images/menu2.png'"
   ]
  },
  {
   "cell_type": "code",
   "execution_count": null,
   "metadata": {},
   "outputs": [],
   "source": [
    "# Custom libraries\n",
    "import sys\n",
    "sys.path.append('./')"
   ]
  },
  {
   "cell_type": "code",
   "execution_count": null,
   "metadata": {},
   "outputs": [],
   "source": []
  },
  {
   "cell_type": "code",
   "execution_count": 2,
   "metadata": {},
   "outputs": [],
   "source": [
    "import cv2"
   ]
  },
  {
   "cell_type": "code",
   "execution_count": 1,
   "metadata": {},
   "outputs": [],
   "source": [
    "from project.ComputerVision.box_detection import BoundingBoxDetection"
   ]
  },
  {
   "cell_type": "code",
   "execution_count": 3,
   "metadata": {},
   "outputs": [],
   "source": [
    "boxdetect = BoundingBoxDetection()"
   ]
  },
  {
   "cell_type": "code",
   "execution_count": null,
   "metadata": {},
   "outputs": [],
   "source": [
    "BoundingBoxDetection.detect_boxes(img)"
   ]
  },
  {
   "cell_type": "code",
   "execution_count": null,
   "metadata": {},
   "outputs": [],
   "source": []
  }
 ],
 "metadata": {
  "kernelspec": {
   "display_name": "base",
   "language": "python",
   "name": "python3"
  },
  "language_info": {
   "codemirror_mode": {
    "name": "ipython",
    "version": 3
   },
   "file_extension": ".py",
   "mimetype": "text/x-python",
   "name": "python",
   "nbconvert_exporter": "python",
   "pygments_lexer": "ipython3",
   "version": "3.8.8"
  },
  "orig_nbformat": 4
 },
 "nbformat": 4,
 "nbformat_minor": 2
}
