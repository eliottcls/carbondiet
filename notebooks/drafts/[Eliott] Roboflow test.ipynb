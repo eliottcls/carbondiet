{
 "cells": [
  {
   "cell_type": "code",
   "execution_count": 3,
   "metadata": {},
   "outputs": [],
   "source": [
    "from ultralytics import YOLO\n",
    "import cv2\n",
    "from IPython.display import display, Image\n",
    "import re"
   ]
  },
  {
   "cell_type": "code",
   "execution_count": 14,
   "metadata": {},
   "outputs": [],
   "source": [
    "import pytesseract\n",
    "pytesseract.pytesseract.tesseract_cmd = r'C:\\Program Files (x86)\\Tesseract-OCR\\tesseract.exe'\n",
    "\n",
    "from paddleocr import PaddleOCR"
   ]
  },
  {
   "cell_type": "markdown",
   "metadata": {},
   "source": [
    "##### Import image to test"
   ]
  },
  {
   "cell_type": "code",
   "execution_count": 4,
   "metadata": {},
   "outputs": [],
   "source": [
    "img = 'C:/Users/EliottCOLSON/OneDrive - Ekimetrics/Documents/carbondiet/data/images/menu2.png'\n",
    "image = cv2.imread(img)"
   ]
  },
  {
   "cell_type": "markdown",
   "metadata": {},
   "source": [
    "### Run box detection model"
   ]
  },
  {
   "cell_type": "code",
   "execution_count": 5,
   "metadata": {},
   "outputs": [],
   "source": [
    "model = YOLO('../data/weights/best_v5.pt')"
   ]
  },
  {
   "cell_type": "code",
   "execution_count": 6,
   "metadata": {},
   "outputs": [
    {
     "name": "stderr",
     "output_type": "stream",
     "text": [
      "\n",
      "image 1/1 C:\\Users\\EliottCOLSON\\OneDrive - Ekimetrics\\Documents\\carbondiet\\data\\images\\menu2.PNG: 800x480 9 Recipes, 1 Section title, 1 Section, 971.7ms\n",
      "Speed: 3.0ms preprocess, 971.7ms inference, 0.0ms postprocess per image at shape (1, 3, 800, 800)\n"
     ]
    }
   ],
   "source": [
    "results = model(source=img)"
   ]
  },
  {
   "cell_type": "code",
   "execution_count": null,
   "metadata": {},
   "outputs": [],
   "source": [
    "res_plotted = results[0].plot()\n",
    "cv2.imshow(\"result\", res_plotted)\n",
    "cv2.waitKey(0)"
   ]
  },
  {
   "cell_type": "markdown",
   "metadata": {},
   "source": [
    "### Adjust box detection & section "
   ]
  },
  {
   "cell_type": "markdown",
   "metadata": {},
   "source": [
    "### Extract text from boxes"
   ]
  },
  {
   "cell_type": "code",
   "execution_count": 7,
   "metadata": {},
   "outputs": [],
   "source": [
    "recipes_index = [i for i in range(len(results[0].boxes.cls)) if int(results[0].boxes.cls[i].item())==0]"
   ]
  },
  {
   "cell_type": "code",
   "execution_count": 19,
   "metadata": {},
   "outputs": [],
   "source": [
    "list_text_tesseract = []\n",
    "for i in recipes_index:\n",
    "    box_coord = results[0].boxes.xywh[i]\n",
    "    x1 = (box_coord[0].item())\n",
    "    y1 = (box_coord[1].item())\n",
    "    w = int(box_coord[2].item())\n",
    "    h = int(box_coord[3].item())\n",
    "    x = int(x1 - (w / 2))\n",
    "    y = int(y1 - (h / 2))\n",
    "    ROI = image[y:y+h,x:x+w]\n",
    "    text = pytesseract.image_to_string(ROI, config='--psm 6')\n",
    "    list_text_tesseract.append(text.lower())"
   ]
  },
  {
   "cell_type": "code",
   "execution_count": 20,
   "metadata": {},
   "outputs": [
    {
     "data": {
      "text/plain": [
       "['gaspacho et sa quenelle au chévre frais 9,50 €\\n\\x0c',\n",
       " 'saumon mariné facon gravlax et sa sauce 13,00 €\\n\\x0c',\n",
       " 'carpaccio de tomates anciennes et buratina 12,00 €\\n\\x0c',\n",
       " 'rillettes de lapin a la sarriette 10,00 €\\n\\x0c',\n",
       " 'escargots de bourgogne, beurre fin a pail\\npar6 850€  parl2 16,00€\\n\\x0c',\n",
       " 'salade de lentilles vertes du berry 8,50€\\nchips de lard\\n\\x0c',\n",
       " 'soupe a ?oignon gratinée 9,00 €\\n\\x0c',\n",
       " 'salade de lentilles vertes du berry 8,50€\\nchips de lard\\n\\x0c',\n",
       " 'terrine de foie gras de canard, 19,00 €\\nchutney du moment, et pain poilane\\n\\x0c']"
      ]
     },
     "execution_count": 20,
     "metadata": {},
     "output_type": "execute_result"
    }
   ],
   "source": [
    "list_text_tesseract"
   ]
  },
  {
   "cell_type": "code",
   "execution_count": 15,
   "metadata": {},
   "outputs": [
    {
     "data": {
      "text/plain": [
       "'A lie 09:06 Ca eed\\nme\\nHee ae ea\\na rg a ef fa i\\nLee fi yee , (\\ni yy la fe i :\\nMCAS Stas eesti\\n——_\\n> wa —s ha\\nEntrées\\nSalade de Lentilles Vertes du Berry 850€\\nChips de Lard\\nSoupe a ?Oignon Gratinée 9,00 €\\nGaspacho et sa Quenelle au Chévre Frais 9,50 €\\nRillettes de Lapin a la Sarriette 10,00 € I\\nCarpaccio de Tomates Anciennes et Buratina 12,00 €\\nSaumon Mariné Facon Gravlax et sa Sauce 13,00 € i\\nEscargots de Bourgogne, Beurre Fin a PAil\\npar6 850€  parl2 16,00€\\nTerrine de Foie Gras de Canard, 19,00 €\\nChutney du Moment, et Pain Poilane\\nUn tableau des allergénes présents dans nos plats,\\nest disponible 4 Paccueil du restaurant\\nvw\\nx a we\\n\\x0c'"
      ]
     },
     "execution_count": 15,
     "metadata": {},
     "output_type": "execute_result"
    }
   ],
   "source": [
    "pytesseract.image_to_string(image, config='--psm 6')"
   ]
  },
  {
   "cell_type": "code",
   "execution_count": 23,
   "metadata": {},
   "outputs": [
    {
     "name": "stdout",
     "output_type": "stream",
     "text": [
      "[2023/03/22 15:25:25] ppocr DEBUG: Namespace(alpha=1.0, benchmark=False, beta=1.0, cls_batch_num=6, cls_image_shape='3, 48, 192', cls_model_dir='C:\\\\Users\\\\EliottCOLSON/.paddleocr/whl\\\\cls\\\\ch_ppocr_mobile_v2.0_cls_infer', cls_thresh=0.9, cpu_threads=10, crop_res_save_dir='./output', det=True, det_algorithm='DB', det_box_type='quad', det_db_box_thresh=0.6, det_db_score_mode='fast', det_db_thresh=0.3, det_db_unclip_ratio=1.5, det_east_cover_thresh=0.1, det_east_nms_thresh=0.2, det_east_score_thresh=0.8, det_limit_side_len=960, det_limit_type='max', det_model_dir='C:\\\\Users\\\\EliottCOLSON/.paddleocr/whl\\\\det\\\\ch\\\\ch_PP-OCRv3_det_infer', det_pse_box_thresh=0.85, det_pse_min_area=16, det_pse_scale=1, det_pse_thresh=0, det_sast_nms_thresh=0.2, det_sast_score_thresh=0.5, draw_img_save_dir='./inference_results', drop_score=0.5, e2e_algorithm='PGNet', e2e_char_dict_path='./ppocr/utils/ic15_dict.txt', e2e_limit_side_len=768, e2e_limit_type='max', e2e_model_dir=None, e2e_pgnet_mode='fast', e2e_pgnet_score_thresh=0.5, e2e_pgnet_valid_set='totaltext', enable_mkldnn=True, fourier_degree=5, gpu_mem=500, help='==SUPPRESS==', image_dir=None, image_orientation=False, ir_optim=True, kie_algorithm='LayoutXLM', label_list=['0', '180'], lang='ch', layout=True, layout_dict_path=None, layout_model_dir=None, layout_nms_threshold=0.5, layout_score_threshold=0.5, max_batch_size=10, max_text_length=25, merge_no_span_structure=True, min_subgraph_size=15, mode='structure', ocr=True, ocr_order_method=None, ocr_version='PP-OCRv3', output='./output', page_num=0, precision='fp32', process_id=0, re_model_dir=None, rec=True, rec_algorithm='SVTR_LCNet', rec_batch_num=6, rec_char_dict_path='c:\\\\Users\\\\EliottCOLSON\\\\anaconda3\\\\lib\\\\site-packages\\\\paddleocr\\\\ppocr\\\\utils\\\\ppocr_keys_v1.txt', rec_image_inverse=True, rec_image_shape='3, 48, 320', rec_model_dir='C:\\\\Users\\\\EliottCOLSON/.paddleocr/whl\\\\rec\\\\ch\\\\ch_PP-OCRv3_rec_infer', recovery=False, save_crop_res=False, save_log_path='./log_output/', scales=[8, 16, 32], ser_dict_path='../train_data/XFUND/class_list_xfun.txt', ser_model_dir=None, show_log=True, sr_batch_num=1, sr_image_shape='3, 32, 128', sr_model_dir=None, structure_version='PP-StructureV2', table=True, table_algorithm='TableAttn', table_char_dict_path=None, table_max_len=488, table_model_dir=None, total_process_num=1, type='ocr', use_angle_cls=True, use_dilation=False, use_gpu=False, use_mp=False, use_npu=False, use_onnx=False, use_pdf2docx_api=False, use_pdserving=False, use_space_char=True, use_tensorrt=False, use_visual_backbone=True, use_xpu=False, vis_font_path='./doc/fonts/simfang.ttf', warmup=False)\n"
     ]
    }
   ],
   "source": [
    "ocr = PaddleOCR(use_angle_cls=True, enable_mkldnn=True) # need to run only once to download and load model into memory"
   ]
  },
  {
   "cell_type": "code",
   "execution_count": 24,
   "metadata": {},
   "outputs": [
    {
     "name": "stdout",
     "output_type": "stream",
     "text": [
      "[2023/03/22 15:25:30] ppocr DEBUG: dt_boxes num : 2, elapse : 0.3583347797393799\n",
      "[2023/03/22 15:25:31] ppocr DEBUG: cls num  : 2, elapse : 0.15430498123168945\n",
      "[2023/03/22 15:25:31] ppocr DEBUG: rec_res num  : 2, elapse : 0.49771642684936523\n",
      "[2023/03/22 15:25:31] ppocr DEBUG: dt_boxes num : 2, elapse : 0.16746234893798828\n",
      "[2023/03/22 15:25:31] ppocr DEBUG: cls num  : 2, elapse : 0.030261754989624023\n",
      "[2023/03/22 15:25:32] ppocr DEBUG: rec_res num  : 2, elapse : 0.23590731620788574\n",
      "[2023/03/22 15:25:32] ppocr DEBUG: dt_boxes num : 2, elapse : 0.08517861366271973\n",
      "[2023/03/22 15:25:32] ppocr DEBUG: cls num  : 2, elapse : 0.014993667602539062\n",
      "[2023/03/22 15:25:32] ppocr DEBUG: rec_res num  : 2, elapse : 0.23744916915893555\n",
      "[2023/03/22 15:25:32] ppocr DEBUG: dt_boxes num : 2, elapse : 0.029938220977783203\n",
      "[2023/03/22 15:25:32] ppocr DEBUG: cls num  : 2, elapse : 0.017024993896484375\n",
      "[2023/03/22 15:25:32] ppocr DEBUG: rec_res num  : 2, elapse : 0.21451282501220703\n",
      "[2023/03/22 15:25:32] ppocr DEBUG: dt_boxes num : 2, elapse : 0.13457250595092773\n",
      "[2023/03/22 15:25:32] ppocr DEBUG: cls num  : 2, elapse : 0.03161454200744629\n",
      "[2023/03/22 15:25:33] ppocr DEBUG: rec_res num  : 2, elapse : 0.16169333457946777\n",
      "[2023/03/22 15:25:33] ppocr DEBUG: dt_boxes num : 3, elapse : 0.1663060188293457\n",
      "[2023/03/22 15:25:33] ppocr DEBUG: cls num  : 3, elapse : 0.1235506534576416\n",
      "[2023/03/22 15:25:33] ppocr DEBUG: rec_res num  : 3, elapse : 0.30246472358703613\n",
      "[2023/03/22 15:25:33] ppocr DEBUG: dt_boxes num : 2, elapse : 0.052847862243652344\n",
      "[2023/03/22 15:25:33] ppocr DEBUG: cls num  : 2, elapse : 0.011996984481811523\n",
      "[2023/03/22 15:25:33] ppocr DEBUG: rec_res num  : 2, elapse : 0.1621541976928711\n",
      "[2023/03/22 15:25:33] ppocr DEBUG: dt_boxes num : 3, elapse : 0.053208112716674805\n",
      "[2023/03/22 15:25:33] ppocr DEBUG: cls num  : 3, elapse : 0.031632184982299805\n",
      "[2023/03/22 15:25:34] ppocr DEBUG: rec_res num  : 3, elapse : 0.26104092597961426\n",
      "[2023/03/22 15:25:34] ppocr DEBUG: dt_boxes num : 3, elapse : 0.04661154747009277\n",
      "[2023/03/22 15:25:34] ppocr DEBUG: cls num  : 3, elapse : 0.01499795913696289\n",
      "[2023/03/22 15:25:34] ppocr DEBUG: rec_res num  : 3, elapse : 0.2582824230194092\n"
     ]
    },
    {
     "data": {
      "text/plain": [
       "[['Gaspacho et sa Quenelle au Chevre Frais', '9,50'],\n",
       " ['Saumon Marine Facon Gravlax et sa Sauce', '13,00'],\n",
       " ['Carpaccio de Tomates Anciennes et Buratina', '12,00'],\n",
       " ['Rillettes de Lapin a la Sarriette', '10.00'],\n",
       " ['par 6 8,50 ', 'par 12 16,00'],\n",
       " ['Salade de Lentilles Vertes du Berry', '8,50', 'ChibrdeLard'],\n",
       " ['Soupe a POignon Gratinee', '9,00'],\n",
       " ['Salade de Lentilles Vertes du Berry', '8,50', 'ChipsdeLard'],\n",
       " ['Terrine de Foie Gras de Canard.',\n",
       "  '19,00',\n",
       "  'Chutney du Moment, et Pain Poilane']]"
      ]
     },
     "execution_count": 24,
     "metadata": {},
     "output_type": "execute_result"
    }
   ],
   "source": [
    "list_text_paddle = []\n",
    "for i in recipes_index:\n",
    "    box_coord = results[0].boxes.xywh[i]\n",
    "    x1 = (box_coord[0].item())\n",
    "    y1 = (box_coord[1].item())\n",
    "    w = int(box_coord[2].item())\n",
    "    h = int(box_coord[3].item())\n",
    "    x = int(x1 - (w / 2))\n",
    "    y = int(y1 - (h / 2))\n",
    "    ROI = image[y:y+h,x:x+w]\n",
    "    #text = pytesseract.image_to_string(ROI,lang=\"fra\", config='--psm 6')\n",
    "    #list_text.append(re.sub('[\\n|\\x0c]', '', text).lower())\n",
    "    result = ocr.ocr(ROI, cls=True)\n",
    "    list_text_paddle.append([x[1][0] for x in result[0]])\n",
    "\n",
    "list_text_paddle"
   ]
  },
  {
   "cell_type": "code",
   "execution_count": null,
   "metadata": {},
   "outputs": [],
   "source": []
  },
  {
   "cell_type": "code",
   "execution_count": 1,
   "metadata": {},
   "outputs": [],
   "source": [
    "from transformers import TrOCRProcessor, VisionEncoderDecoderModel"
   ]
  },
  {
   "cell_type": "code",
   "execution_count": 11,
   "metadata": {},
   "outputs": [
    {
     "name": "stderr",
     "output_type": "stream",
     "text": [
      "Some weights of VisionEncoderDecoderModel were not initialized from the model checkpoint at microsoft/trocr-small-printed and are newly initialized: ['encoder.pooler.dense.bias', 'encoder.pooler.dense.weight']\n",
      "You should probably TRAIN this model on a down-stream task to be able to use it for predictions and inference.\n"
     ]
    }
   ],
   "source": [
    "processor = TrOCRProcessor.from_pretrained('microsoft/trocr-small-printed')\n",
    "model = VisionEncoderDecoderModel.from_pretrained('microsoft/trocr-small-printed')"
   ]
  },
  {
   "cell_type": "code",
   "execution_count": 12,
   "metadata": {},
   "outputs": [
    {
     "name": "stderr",
     "output_type": "stream",
     "text": [
      "Setting `pad_token_id` to `eos_token_id`:2 for open-end generation.\n"
     ]
    }
   ],
   "source": [
    "pixel_values = processor(images=image, return_tensors=\"pt\").pixel_values\n",
    "\n",
    "generated_ids = model.generate(pixel_values)\n",
    "generated_text = processor.batch_decode(generated_ids, skip_special_tokens=True)[0]"
   ]
  },
  {
   "cell_type": "code",
   "execution_count": 13,
   "metadata": {},
   "outputs": [
    {
     "name": "stderr",
     "output_type": "stream",
     "text": [
      "Setting `pad_token_id` to `eos_token_id`:2 for open-end generation.\n",
      "Setting `pad_token_id` to `eos_token_id`:2 for open-end generation.\n",
      "Setting `pad_token_id` to `eos_token_id`:2 for open-end generation.\n",
      "Setting `pad_token_id` to `eos_token_id`:2 for open-end generation.\n",
      "Setting `pad_token_id` to `eos_token_id`:2 for open-end generation.\n",
      "Setting `pad_token_id` to `eos_token_id`:2 for open-end generation.\n",
      "Setting `pad_token_id` to `eos_token_id`:2 for open-end generation.\n",
      "Setting `pad_token_id` to `eos_token_id`:2 for open-end generation.\n",
      "Setting `pad_token_id` to `eos_token_id`:2 for open-end generation.\n"
     ]
    },
    {
     "data": {
      "text/plain": [
       "['GASPACHO ET SA QUENGLE AU CHEVIE PRAS 9,50 E',\n",
       " 'SAUMON MARINE FACON GRASLAX ET SA SAUCE 13,00 6',\n",
       " 'CAPPACIO DE TOMATES ANCHENES ET BURATINA 12,006',\n",
       " 'RELETIES DE LAPIN A LA SARRITEITE',\n",
       " 'EXCHANGES DE BOUNDSING, BATE 8,506 PAP 12 16,006',\n",
       " 'SABLE DE TERMILES VERIES DU BERRY',\n",
       " 'SOUPED POUGH ONLINE',\n",
       " 'CAPILING LARVILLES, VEMES DU BERRY',\n",
       " 'TEMING AS FACE, OFFING DETAILS ARE AN OFFER']"
      ]
     },
     "execution_count": 13,
     "metadata": {},
     "output_type": "execute_result"
    }
   ],
   "source": [
    "list_text_trocr = []\n",
    "for i in recipes_index:\n",
    "    box_coord = results[0].boxes.xywh[i]\n",
    "    x1 = (box_coord[0].item())\n",
    "    y1 = (box_coord[1].item())\n",
    "    w = int(box_coord[2].item())\n",
    "    h = int(box_coord[3].item())\n",
    "    x = int(x1 - (w / 2))\n",
    "    y = int(y1 - (h / 2))\n",
    "    ROI = image[y:y+h,x:x+w]    \n",
    "\n",
    "    pixel_values = processor(images=ROI, return_tensors=\"pt\").pixel_values\n",
    "\n",
    "    generated_ids = model.generate(pixel_values)\n",
    "    generated_text = processor.batch_decode(generated_ids, skip_special_tokens=True)[0]\n",
    "\n",
    "    list_text_trocr.append(generated_text)\n",
    "\n",
    "list_text_trocr"
   ]
  },
  {
   "cell_type": "code",
   "execution_count": null,
   "metadata": {},
   "outputs": [],
   "source": []
  },
  {
   "cell_type": "code",
   "execution_count": null,
   "metadata": {},
   "outputs": [],
   "source": []
  },
  {
   "cell_type": "code",
   "execution_count": null,
   "metadata": {},
   "outputs": [],
   "source": [
    "def is_contained(outer_box, inner_box):\n",
    "    x1, y1, w1, h1 = outer_box\n",
    "    x2, y2, w2, h2 = inner_box\n",
    "\n",
    "    if x2 >= x1 and y2 >= y1 and (x2 + w2) <= (x1 + w1) and (y2 + h2) <= (y1 + h1):\n",
    "        return True\n",
    "    else:\n",
    "        return False"
   ]
  },
  {
   "cell_type": "code",
   "execution_count": null,
   "metadata": {},
   "outputs": [],
   "source": []
  },
  {
   "cell_type": "code",
   "execution_count": null,
   "metadata": {},
   "outputs": [],
   "source": [
    "img = 'C:/Users/EliottCOLSON/OneDrive - Ekimetrics/Documents/carbondiet/data/images/menu2.png'"
   ]
  },
  {
   "cell_type": "code",
   "execution_count": null,
   "metadata": {},
   "outputs": [],
   "source": [
    "# Custom libraries\n",
    "import sys\n",
    "sys.path.append('./')"
   ]
  },
  {
   "cell_type": "code",
   "execution_count": null,
   "metadata": {},
   "outputs": [],
   "source": []
  },
  {
   "cell_type": "code",
   "execution_count": 2,
   "metadata": {},
   "outputs": [],
   "source": [
    "import cv2"
   ]
  },
  {
   "cell_type": "code",
   "execution_count": 1,
   "metadata": {},
   "outputs": [],
   "source": [
    "from project.ComputerVision.box_detection import BoundingBoxDetection"
   ]
  },
  {
   "cell_type": "code",
   "execution_count": 3,
   "metadata": {},
   "outputs": [],
   "source": [
    "boxdetect = BoundingBoxDetection()"
   ]
  },
  {
   "cell_type": "code",
   "execution_count": null,
   "metadata": {},
   "outputs": [],
   "source": [
    "BoundingBoxDetection.detect_boxes(img)"
   ]
  },
  {
   "cell_type": "code",
   "execution_count": null,
   "metadata": {},
   "outputs": [],
   "source": []
  },
  {
   "cell_type": "code",
   "execution_count": null,
   "metadata": {},
   "outputs": [],
   "source": []
  },
  {
   "cell_type": "code",
   "execution_count": null,
   "metadata": {},
   "outputs": [],
   "source": []
  },
  {
   "cell_type": "code",
   "execution_count": 2,
   "metadata": {},
   "outputs": [],
   "source": [
    "import json"
   ]
  },
  {
   "cell_type": "code",
   "execution_count": 3,
   "metadata": {},
   "outputs": [],
   "source": [
    "file = open(\"../data/other/box_example.json\", 'r')\n",
    "box_example = json.load(file)"
   ]
  },
  {
   "cell_type": "code",
   "execution_count": 11,
   "metadata": {},
   "outputs": [],
   "source": [
    "test_list = [(x[0], x[1]) for x in box_example['Recipe']]"
   ]
  },
  {
   "cell_type": "code",
   "execution_count": 32,
   "metadata": {},
   "outputs": [],
   "source": [
    "def remove_overlapping_bounding_boxes(bounding_boxes, treshold=0.5):\n",
    "    #input a list of tuple containing bounding boxes and confidence\n",
    "    #output a cleaned (according to fixed treshold) list of tuple containing bounding boxes and confidence\n",
    "    cleaned_boxes = {}\n",
    "    for box, prob in bounding_boxes:\n",
    "        x1, y1, w1, h1 = box\n",
    "        area1 = w1 * h1\n",
    "        added = False\n",
    "        for key in cleaned_boxes:\n",
    "            x2, y2, w2, h2 = cleaned_boxes[key][0]\n",
    "            area2 = w2 * h2\n",
    "            x_overlap = max(0, min(x1 + w1, x2 + w2) - max(x1, x2))\n",
    "            y_overlap = max(0, min(y1 + h1, y2 + h2) - max(y1, y2))\n",
    "            overlap_area = x_overlap * y_overlap\n",
    "            if overlap_area > treshold * area1 or overlap_area > treshold * area2:\n",
    "                if prob > cleaned_boxes[key][1]:\n",
    "                    cleaned_boxes[key] = (box, prob)\n",
    "                added = True\n",
    "                break\n",
    "        if not added:\n",
    "            cleaned_boxes[len(cleaned_boxes)] = (box, prob)\n",
    "    return list(cleaned_boxes.values())"
   ]
  },
  {
   "cell_type": "code",
   "execution_count": 19,
   "metadata": {},
   "outputs": [
    {
     "data": {
      "text/plain": [
       "36"
      ]
     },
     "execution_count": 19,
     "metadata": {},
     "output_type": "execute_result"
    }
   ],
   "source": [
    "len(test_list)"
   ]
  },
  {
   "cell_type": "code",
   "execution_count": 20,
   "metadata": {},
   "outputs": [
    {
     "data": {
      "text/plain": [
       "25"
      ]
     },
     "execution_count": 20,
     "metadata": {},
     "output_type": "execute_result"
    }
   ],
   "source": [
    "len(remove_overlapping_bounding_boxes(test_list))"
   ]
  },
  {
   "cell_type": "code",
   "execution_count": 21,
   "metadata": {},
   "outputs": [],
   "source": [
    "import cv2"
   ]
  },
  {
   "cell_type": "code",
   "execution_count": 41,
   "metadata": {},
   "outputs": [],
   "source": [
    "img = 'C:/Users/EliottCOLSON/OneDrive - Ekimetrics/Documents/carbondiet/data/images/menu7.jpg' # copy absolute path toward image\n",
    "image = cv2.imread(img)"
   ]
  },
  {
   "cell_type": "code",
   "execution_count": 31,
   "metadata": {},
   "outputs": [
    {
     "data": {
      "text/plain": [
       "-1"
      ]
     },
     "execution_count": 31,
     "metadata": {},
     "output_type": "execute_result"
    }
   ],
   "source": [
    "image2 = image.copy()\n",
    "list_box = [x[0] for x in remove_overlapping_bounding_boxes(test_list, 0.5)]\n",
    "\n",
    "for box in list_box:\n",
    "    x, y, w ,h = box\n",
    "    cv2.rectangle(image2, (x, y), (x + w, y + h), (0, 255, 0), 2)\n",
    "\n",
    "cv2.imshow('Image with rectangle', image2)\n",
    "cv2.waitKey(0)"
   ]
  },
  {
   "cell_type": "code",
   "execution_count": null,
   "metadata": {},
   "outputs": [],
   "source": []
  },
  {
   "cell_type": "code",
   "execution_count": null,
   "metadata": {},
   "outputs": [],
   "source": []
  },
  {
   "cell_type": "code",
   "execution_count": 33,
   "metadata": {},
   "outputs": [],
   "source": [
    "from ultralytics import YOLO"
   ]
  },
  {
   "cell_type": "code",
   "execution_count": 38,
   "metadata": {},
   "outputs": [],
   "source": [
    "yolo_model = YOLO('C:/Users/EliottCOLSON/OneDrive - Ekimetrics/Documents/carbondiet/data/weights/best_v6.pt')"
   ]
  },
  {
   "cell_type": "code",
   "execution_count": 43,
   "metadata": {},
   "outputs": [
    {
     "name": "stderr",
     "output_type": "stream",
     "text": [
      "\n",
      "0: 800x800 36 Recipes, 1 Section title, 844.9ms\n",
      "Speed: 9.0ms preprocess, 844.9ms inference, 2.5ms postprocess per image at shape (1, 3, 800, 800)\n"
     ]
    }
   ],
   "source": [
    "results = yolo_model(image)"
   ]
  },
  {
   "cell_type": "code",
   "execution_count": 1,
   "metadata": {},
   "outputs": [],
   "source": [
    "import json"
   ]
  },
  {
   "cell_type": "code",
   "execution_count": 16,
   "metadata": {},
   "outputs": [],
   "source": [
    "file = open(\"../data/other/box_example.json\", 'r')\n",
    "box_raw = json.load(file)"
   ]
  },
  {
   "cell_type": "code",
   "execution_count": 17,
   "metadata": {},
   "outputs": [],
   "source": [
    "box_example = {\"Recipe\" : [x[0] for x in box_raw[\"Recipe\"]],\n",
    "               \"Section title\" : [x[0] for x in box_raw[\"Section title\"]]}"
   ]
  },
  {
   "cell_type": "code",
   "execution_count": 37,
   "metadata": {},
   "outputs": [],
   "source": [
    "import math\n",
    "\n",
    "def attribute_boxes(dict_boxes, recipe_name = \"Recipe\", section_title_name = \"Section title\"):\n",
    "    # Function that takes a dict of boxes with recipes and section itles. And then assigns each recipe to the closest section title box located above.\n",
    "\n",
    "    recipe = dict_boxes[recipe_name]\n",
    "    section = dict_boxes[section_title_name]\n",
    "    \n",
    "    # Initialize dictionary to hold assigned boxes\n",
    "    assigned_boxes = {}\n",
    "\n",
    "    # Initialize list to hold unassigned recipe boxes\n",
    "    unassigned_boxes = []\n",
    "\n",
    "    # Sort recipe boxes by y-coordinate\n",
    "    recipe = sorted(recipe, key=lambda box: box[1])\n",
    "\n",
    "    # Loop over recipe boxes\n",
    "    for recipe_box in recipe:\n",
    "        # Initialize variables to keep track of closest section box and distance\n",
    "        closest_section_box = None\n",
    "        closest_distance = float('inf')\n",
    "\n",
    "        # Loop over section boxes\n",
    "        for section_box in section:\n",
    "            # Check if section box is above recipe box\n",
    "            if section_box[1] > recipe_box[1]:\n",
    "                continue\n",
    "            \n",
    "            # Compute distance between centers of recipe box and section box\n",
    "            recipe_center = (recipe_box[0] + recipe_box[2]/2, recipe_box[1] + recipe_box[3]/2)\n",
    "            section_center = (section_box[0] + section_box[2]/2, section_box[1] + section_box[3]/2)\n",
    "            distance = math.sqrt((recipe_center[0] - section_center[0])**2 + (recipe_center[1] - section_center[1])**2)\n",
    "            # Check if distance is smaller than current closest distance\n",
    "            if distance < closest_distance:\n",
    "                closest_section_box = section_box\n",
    "                closest_distance = distance\n",
    "\n",
    "        # Check if a section box was found for the recipe box\n",
    "        if closest_section_box is not None:\n",
    "            # Add recipe box to dictionary of assigned boxes\n",
    "            if section.index(closest_section_box) in assigned_boxes:\n",
    "                assigned_boxes[section.index(closest_section_box)].append(recipe_box)\n",
    "            else:\n",
    "                assigned_boxes[section.index(closest_section_box)] = [recipe_box]\n",
    "        else:\n",
    "            # Add recipe box to list of unassigned boxes\n",
    "            unassigned_boxes.append(recipe_box)\n",
    "\n",
    "    # Add unassigned boxes to dictionary of assigned boxes\n",
    "    assigned_boxes['unassigned'] = unassigned_boxes\n",
    "\n",
    "    return assigned_boxes\n"
   ]
  },
  {
   "cell_type": "code",
   "execution_count": 38,
   "metadata": {},
   "outputs": [
    {
     "data": {
      "text/plain": [
       "{0: [[495, 86, 428, 82],\n",
       "  [53, 91, 421, 56],\n",
       "  [484, 136, 453, 31],\n",
       "  [55, 148, 411, 49],\n",
       "  [497, 168, 425, 58],\n",
       "  [54, 203, 416, 52],\n",
       "  [496, 238, 427, 71],\n",
       "  [55, 258, 416, 44],\n",
       "  [63, 273, 365, 32],\n",
       "  [55, 308, 416, 70],\n",
       "  [500, 316, 422, 73],\n",
       "  [71, 324, 409, 52],\n",
       "  [55, 379, 415, 76],\n",
       "  [499, 394, 423, 62],\n",
       "  [71, 400, 376, 54],\n",
       "  [534, 406, 388, 39],\n",
       "  [54, 456, 420, 66],\n",
       "  [501, 462, 419, 49],\n",
       "  [508, 495, 414, 74],\n",
       "  [500, 525, 421, 46],\n",
       "  [55, 531, 425, 47],\n",
       "  [501, 575, 427, 93],\n",
       "  [55, 582, 428, 65],\n",
       "  [54, 583, 426, 43],\n",
       "  [55, 603, 427, 104],\n",
       "  [54, 641, 421, 67],\n",
       "  [497, 666, 426, 65],\n",
       "  [519, 684, 397, 38],\n",
       "  [55, 707, 418, 50],\n",
       "  [79, 723, 397, 38],\n",
       "  [497, 739, 421, 59],\n",
       "  [53, 764, 418, 49],\n",
       "  [83, 781, 392, 31],\n",
       "  [497, 806, 415, 57],\n",
       "  [48, 816, 425, 96],\n",
       "  [498, 869, 413, 56]],\n",
       " 'unassigned': []}"
      ]
     },
     "execution_count": 38,
     "metadata": {},
     "output_type": "execute_result"
    }
   ],
   "source": [
    "attribute_boxes(box_example)"
   ]
  },
  {
   "cell_type": "code",
   "execution_count": null,
   "metadata": {},
   "outputs": [],
   "source": []
  }
 ],
 "metadata": {
  "kernelspec": {
   "display_name": "base",
   "language": "python",
   "name": "python3"
  },
  "language_info": {
   "codemirror_mode": {
    "name": "ipython",
    "version": 3
   },
   "file_extension": ".py",
   "mimetype": "text/x-python",
   "name": "python",
   "nbconvert_exporter": "python",
   "pygments_lexer": "ipython3",
   "version": "3.8.8"
  },
  "orig_nbformat": 4
 },
 "nbformat": 4,
 "nbformat_minor": 2
}
