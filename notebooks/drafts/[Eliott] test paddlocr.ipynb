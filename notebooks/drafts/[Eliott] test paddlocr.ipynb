{
 "cells": [
  {
   "cell_type": "code",
   "execution_count": 1,
   "metadata": {},
   "outputs": [],
   "source": [
    "from paddleocr import PaddleOCR, draw_ocr\n",
    "import matplotlib.pyplot as plt\n",
    "import matplotlib.patches as patches\n",
    "import io\n",
    "import PIL\n",
    "import cv2\n",
    "\n",
    "import sys\n",
    "sys.path.append(\"../../\") \n",
    "\n",
    "from project.ComputerVision.ocr import OCR"
   ]
  },
  {
   "cell_type": "code",
   "execution_count": 2,
   "metadata": {},
   "outputs": [],
   "source": [
    "paddleocr = PaddleOCR(show_log=False, use_angle_cls=True, enable_mkldnn=True, lang=\"latin\")"
   ]
  },
  {
   "cell_type": "code",
   "execution_count": 28,
   "metadata": {},
   "outputs": [],
   "source": [
    "image_path = \"../../data/images/menu3.jpg\"\n",
    "im = PIL.Image.open(image_path) "
   ]
  },
  {
   "cell_type": "code",
   "execution_count": null,
   "metadata": {},
   "outputs": [],
   "source": [
    "def extract_text_from_image(image_path):\n",
    "    result = paddleocr.ocr(image_path, cls=True)\n",
    "\n",
    "    ocr_res = []\n",
    "\n",
    "    for ps, (text, score) in result[0]:\n",
    "        x1 = min(p[0] for p in ps)\n",
    "        y1 = min(p[1] for p in ps)\n",
    "        x2 = max(p[0] for p in ps)\n",
    "        y2 = max(p[1] for p in ps)\n",
    "        word_info = {\n",
    "            'bbox': [x1, y1, x2, y2],\n",
    "            'text': text\n",
    "        }\n",
    "        ocr_res.append(word_info)\n",
    "    return ocr_res\n",
    "\n",
    "def find_intersecting_bboxes(listbox, listocr):\n",
    "    result = []\n",
    "\n",
    "    for bbox1 in listbox:\n",
    "        bbox1_x, bbox1_y, bbox1_w, bbox1_h = bbox1\n",
    "        e = {'bbox_from_listbox' : [bbox1_x, bbox1_y, bbox1_w, bbox1_h], 'bbox_from_listocr':[], 'text_from_listocr':[]}\n",
    "\n",
    "        for bbox2 in listocr:\n",
    "            bbox2_x1, bbox2_y1, bbox2_x2, bbox2_y2 = bbox2[\"bbox\"]\n",
    "            bbox2_center_x = bbox2_x1 + ((bbox2_x2 - bbox2_x1) // 2)\n",
    "            bbox2_center_y = bbox2_y1 + ((bbox2_y2 - bbox2_y1) // 2)\n",
    "\n",
    "            if (bbox1_x <= bbox2_center_x <= bbox1_x + bbox1_w) and (bbox1_y <= bbox2_center_y <= bbox1_y + bbox1_h):\n",
    "                e[\"bbox_from_listocr\"].append([bbox2_x1, bbox2_y1, bbox2_x2, bbox2_y2])\n",
    "                e[\"text_from_listocr\"].append(bbox2[\"text\"])\n",
    "        result.append(e)\n",
    "\n",
    "    return result\n",
    "\n",
    "\n",
    "def aggregate_bounding_boxes(bounding_boxes):\n",
    "    if not bounding_boxes:\n",
    "        return None\n",
    "\n",
    "    min_x = min(box[0] for box in bounding_boxes)\n",
    "    min_y = min(box[1] for box in bounding_boxes)\n",
    "    max_x = max(box[2] for box in bounding_boxes)\n",
    "    max_y = max(box[3] for box in bounding_boxes)\n",
    "\n",
    "    aggregated_box = [min_x, min_y, max_x, max_y]\n",
    "    return aggregated_box"
   ]
  },
  {
   "cell_type": "code",
   "execution_count": 17,
   "metadata": {},
   "outputs": [],
   "source": [
    "ocr = OCR()"
   ]
  },
  {
   "cell_type": "code",
   "execution_count": 29,
   "metadata": {},
   "outputs": [
    {
     "name": "stderr",
     "output_type": "stream",
     "text": [
      "\n",
      "image 1/1 C:\\Users\\EliottCOLSON\\OneDrive - Ekimetrics\\Documents\\Carbon-Diet\\carbondiet\\data\\images\\menu3.jpg: 800x576 16 Recipes, 1351.7ms\n",
      "Speed: 5.2ms preprocess, 1351.7ms inference, 1.0ms postprocess per image at shape (1, 3, 800, 800)\n"
     ]
    },
    {
     "data": {
      "text/plain": [
       "[{'bbox_from_listbox': [355, 514, 277, 56],\n",
       "  'bbox_from_listocr': [[462.0, 520.0, 528.0, 540.0],\n",
       "   [366.0, 543.0, 624.0, 562.0]],\n",
       "  'text_from_listocr': ['MERLU', 'ASPERGES BLANCHES/SAUCEVIERGE']},\n",
       " {'bbox_from_listbox': [333, 581, 316, 56],\n",
       "  'bbox_from_listocr': [[454.0, 584.0, 535.0, 612.0],\n",
       "   [350.0, 612.0, 640.0, 631.0]],\n",
       "  'text_from_listocr': ['SÉBASTE', 'RIZGRILLE/ARTICHAUTS/BEURREBLANC']},\n",
       " {'bbox_from_listbox': [339, 326, 310, 56],\n",
       "  'bbox_from_listocr': [[453.0, 332.0, 537.0, 352.0],\n",
       "   [352.0, 355.0, 640.0, 374.0]],\n",
       "  'text_from_listocr': ['TOMATES', \"MOZZARELLA/TERREAU D'OLIVES NOIRES\"]},\n",
       " {'bbox_from_listbox': [293, 653, 409, 54],\n",
       "  'bbox_from_listocr': [[458.0, 658.0, 534.0, 679.0],\n",
       "   [297.0, 680.0, 693.0, 699.0]],\n",
       "  'text_from_listocr': ['COCHON',\n",
       "   'LONGE IBERIQUE/SUCRINE/POMMES DETERRE FUMEES']},\n",
       " {'bbox_from_listbox': [339, 396, 314, 50],\n",
       "  'bbox_from_listocr': [[456.0, 397.0, 533.0, 423.0],\n",
       "   [346.0, 425.0, 645.0, 444.0]],\n",
       "  'text_from_listocr': ['RISOTTO', \"BISQUE D'ECREVISSES/TOMATES CERISES\"]},\n",
       " {'bbox_from_listbox': [365, 257, 259, 52],\n",
       "  'bbox_from_listocr': [[453.0, 260.0, 536.0, 286.0],\n",
       "   [380.0, 287.0, 612.0, 306.0]],\n",
       "  'text_from_listocr': ['SAUMON', 'GRAVLAX/BETTERAVES/AVOCAT']},\n",
       " {'bbox_from_listbox': [339, 188, 311, 55],\n",
       "  'bbox_from_listocr': [[468.0, 195.0, 522.0, 216.0],\n",
       "   [352.0, 217.0, 640.0, 236.0]],\n",
       "  'text_from_listocr': ['BCEUF', 'TARTARE AU COUTEAU/POMMES PAILLES']},\n",
       " {'bbox_from_listbox': [300, 722, 385, 53],\n",
       "  'bbox_from_listocr': [[467.0, 727.0, 522.0, 747.0],\n",
       "   [309.0, 750.0, 681.0, 769.0]],\n",
       "  'text_from_listocr': ['BCEUF', \"ANGUS/CAVIAR D'AUBERGINES/CONDIMENTPOIVRE\"]},\n",
       " {'bbox_from_listbox': [319, 790, 345, 50],\n",
       "  'bbox_from_listocr': [[456.0, 797.0, 534.0, 817.0],\n",
       "   [336.0, 818.0, 653.0, 837.0]],\n",
       "  'text_from_listocr': ['CANETTE', 'FILET/POMMESANNA/LEGUMESDE SAISON']},\n",
       " {'bbox_from_listbox': [425, 1162, 142, 53],\n",
       "  'bbox_from_listocr': [[436.0, 1169.0, 555.0, 1190.0],\n",
       "   [430.0, 1190.0, 559.0, 1212.0]],\n",
       "  'text_from_listocr': ['PANNA COTTA', 'RHUBARBE/ROSE']},\n",
       " {'bbox_from_listbox': [403, 1230, 187, 74],\n",
       "  'bbox_from_listocr': [[412.0, 1247.0, 580.0, 1276.0]],\n",
       "  'text_from_listocr': ['La Gri!tte']},\n",
       " {'bbox_from_listbox': [400, 1024, 192, 55],\n",
       "  'bbox_from_listocr': [[458.0, 1031.0, 534.0, 1051.0],\n",
       "   [411.0, 1053.0, 580.0, 1073.0]],\n",
       "  'text_from_listocr': ['ABRICOT', 'TARTE/AMANDE/MIEL']},\n",
       " {'bbox_from_listbox': [398, 1094, 190, 52],\n",
       "  'bbox_from_listocr': [[449.0, 1099.0, 540.0, 1120.0],\n",
       "   [409.0, 1123.0, 580.0, 1142.0]],\n",
       "  'text_from_listocr': ['CHOCOLAT', 'MOUSSE/CONDIMENTS']},\n",
       " {'bbox_from_listbox': [378, 905, 241, 60],\n",
       "  'bbox_from_listocr': [[434.0, 913.0, 558.0, 933.0],\n",
       "   [387.0, 936.0, 603.0, 955.0]],\n",
       "  'text_from_listocr': ['FROMAGES8€', 'ASSORTIMENT DE TROIS PIECES']},\n",
       " {'bbox_from_listbox': [334, 118, 304, 30],\n",
       "  'bbox_from_listocr': [[366.0, 122.0, 625.0, 141.0]],\n",
       "  'text_from_listocr': ['ENTREE+PLAT+DESSERT=28€']}]"
      ]
     },
     "execution_count": 29,
     "metadata": {},
     "output_type": "execute_result"
    }
   ],
   "source": [
    "ocr_result = extract_text_from_page(image_path)\n",
    "box_recipe = ocr.return_cleaned_boxes(image_path)[\"Recipe\"]\n",
    "box_ocr = [d[\"bbox\"] for d in ocr_result]\n",
    "res = find_intersecting_bboxes(box_recipe, ocr_result)"
   ]
  },
  {
   "cell_type": "code",
   "execution_count": 32,
   "metadata": {},
   "outputs": [],
   "source": [
    "old_bbox = [e[\"bbox_from_listbox\"] for e in res]\n",
    "new_bbox = [aggregate_bounding_boxes(e[\"bbox_from_listocr\"]) for e in res]\n",
    "text = [\", \".join(e[\"text_from_listocr\"]) for e in res]"
   ]
  },
  {
   "cell_type": "code",
   "execution_count": 35,
   "metadata": {},
   "outputs": [
    {
     "data": {
      "text/plain": [
       "['MERLU, ASPERGES BLANCHES/SAUCEVIERGE',\n",
       " 'SÉBASTE, RIZGRILLE/ARTICHAUTS/BEURREBLANC',\n",
       " \"TOMATES, MOZZARELLA/TERREAU D'OLIVES NOIRES\",\n",
       " 'COCHON, LONGE IBERIQUE/SUCRINE/POMMES DETERRE FUMEES',\n",
       " \"RISOTTO, BISQUE D'ECREVISSES/TOMATES CERISES\",\n",
       " 'SAUMON, GRAVLAX/BETTERAVES/AVOCAT',\n",
       " 'BCEUF, TARTARE AU COUTEAU/POMMES PAILLES',\n",
       " \"BCEUF, ANGUS/CAVIAR D'AUBERGINES/CONDIMENTPOIVRE\",\n",
       " 'CANETTE, FILET/POMMESANNA/LEGUMESDE SAISON',\n",
       " 'PANNA COTTA, RHUBARBE/ROSE',\n",
       " 'La Gri!tte',\n",
       " 'ABRICOT, TARTE/AMANDE/MIEL',\n",
       " 'CHOCOLAT, MOUSSE/CONDIMENTS',\n",
       " 'FROMAGES8€, ASSORTIMENT DE TROIS PIECES',\n",
       " 'ENTREE+PLAT+DESSERT=28€']"
      ]
     },
     "execution_count": 35,
     "metadata": {},
     "output_type": "execute_result"
    }
   ],
   "source": [
    "boxes = ocr.return_cleaned_boxes(image_path)\n",
    "ocr.attribute_boxes(boxes)"
   ]
  },
  {
   "cell_type": "code",
   "execution_count": null,
   "metadata": {},
   "outputs": [],
   "source": []
  }
 ],
 "metadata": {
  "kernelspec": {
   "display_name": "base",
   "language": "python",
   "name": "python3"
  },
  "language_info": {
   "codemirror_mode": {
    "name": "ipython",
    "version": 3
   },
   "file_extension": ".py",
   "mimetype": "text/x-python",
   "name": "python",
   "nbconvert_exporter": "python",
   "pygments_lexer": "ipython3",
   "version": "3.8.8"
  },
  "orig_nbformat": 4
 },
 "nbformat": 4,
 "nbformat_minor": 2
}
