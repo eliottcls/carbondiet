{
 "cells": [
  {
   "cell_type": "code",
   "execution_count": 1,
   "metadata": {},
   "outputs": [],
   "source": [
    "import pandas as pd"
   ]
  },
  {
   "cell_type": "code",
   "execution_count": 2,
   "id": "267f2bfe",
   "metadata": {},
   "outputs": [],
   "source": [
    "data = pd.read_excel(\"../data/recette_prétraité_projet7tomorrow.xlsx\")"
   ]
  },
  {
   "cell_type": "code",
   "execution_count": 3,
   "id": "4c8fe13e",
   "metadata": {},
   "outputs": [
    {
     "data": {
      "text/html": [
       "<div>\n",
       "<style scoped>\n",
       "    .dataframe tbody tr th:only-of-type {\n",
       "        vertical-align: middle;\n",
       "    }\n",
       "\n",
       "    .dataframe tbody tr th {\n",
       "        vertical-align: top;\n",
       "    }\n",
       "\n",
       "    .dataframe thead th {\n",
       "        text-align: right;\n",
       "    }\n",
       "</style>\n",
       "<table border=\"1\" class=\"dataframe\">\n",
       "  <thead>\n",
       "    <tr style=\"text-align: right;\">\n",
       "      <th></th>\n",
       "      <th>Unnamed: 0</th>\n",
       "      <th>title_raw</th>\n",
       "      <th>id</th>\n",
       "      <th>url</th>\n",
       "      <th>unit</th>\n",
       "      <th>quantity_raw</th>\n",
       "      <th>ingredient_raw</th>\n",
       "      <th>weight_per_ingr</th>\n",
       "      <th>ingredient_clean_comma</th>\n",
       "      <th>matched_ingredient</th>\n",
       "      <th>food_clean_comma</th>\n",
       "      <th>est_impact</th>\n",
       "      <th>title_clean</th>\n",
       "    </tr>\n",
       "  </thead>\n",
       "  <tbody>\n",
       "    <tr>\n",
       "      <th>0</th>\n",
       "      <td>0</td>\n",
       "      <td>yogurt parfaits</td>\n",
       "      <td>000095fc1d</td>\n",
       "      <td>http://tastykitchen.com/recipes/breakfastbrunc...</td>\n",
       "      <td>ounce</td>\n",
       "      <td>8</td>\n",
       "      <td>yogurt, greek, plain, nonfat</td>\n",
       "      <td>226.796</td>\n",
       "      <td>yogurt ,  greek ,  plain ,</td>\n",
       "      <td>yogurt ,  greek style ,  plain</td>\n",
       "      <td>yogurt ,  greek style ,  plain</td>\n",
       "      <td>240.0</td>\n",
       "      <td>yogurt parfaits</td>\n",
       "    </tr>\n",
       "    <tr>\n",
       "      <th>1</th>\n",
       "      <td>1</td>\n",
       "      <td>yogurt parfaits</td>\n",
       "      <td>000095fc1d</td>\n",
       "      <td>http://tastykitchen.com/recipes/breakfastbrunc...</td>\n",
       "      <td>cup</td>\n",
       "      <td>1</td>\n",
       "      <td>strawberries, raw</td>\n",
       "      <td>152.000</td>\n",
       "      <td>strawberry ,</td>\n",
       "      <td>strawberry ,</td>\n",
       "      <td>strawberry ,</td>\n",
       "      <td>-1.0</td>\n",
       "      <td>yogurt parfaits</td>\n",
       "    </tr>\n",
       "    <tr>\n",
       "      <th>2</th>\n",
       "      <td>4</td>\n",
       "      <td>yogurt parfaits</td>\n",
       "      <td>000095fc1d</td>\n",
       "      <td>http://tastykitchen.com/recipes/breakfastbrunc...</td>\n",
       "      <td>cup</td>\n",
       "      <td>2022-04-01 00:00:00</td>\n",
       "      <td>cereals ready-to-eat, granola, homemade</td>\n",
       "      <td>30.500</td>\n",
       "      <td>cereal  ,  granola ,</td>\n",
       "      <td>not found</td>\n",
       "      <td>NaN</td>\n",
       "      <td>NaN</td>\n",
       "      <td>yogurt parfaits</td>\n",
       "    </tr>\n",
       "    <tr>\n",
       "      <th>3</th>\n",
       "      <td>5</td>\n",
       "      <td>salt free, low cholesterol sugar cookies recipe</td>\n",
       "      <td>00051d5b9d</td>\n",
       "      <td>http://cookeatshare.com/recipes/salt-free-low-...</td>\n",
       "      <td>cup</td>\n",
       "      <td>01-fŽvr</td>\n",
       "      <td>sugars, granulated</td>\n",
       "      <td>100.800</td>\n",
       "      <td>sugar ,</td>\n",
       "      <td>not found</td>\n",
       "      <td>NaN</td>\n",
       "      <td>NaN</td>\n",
       "      <td>salt low cholesterol sugar cookies recipe</td>\n",
       "    </tr>\n",
       "    <tr>\n",
       "      <th>4</th>\n",
       "      <td>6</td>\n",
       "      <td>salt free, low cholesterol sugar cookies recipe</td>\n",
       "      <td>00051d5b9d</td>\n",
       "      <td>http://cookeatshare.com/recipes/salt-free-low-...</td>\n",
       "      <td>cup</td>\n",
       "      <td>2022-04-03 00:00:00</td>\n",
       "      <td>oil, corn, peanut, and olive</td>\n",
       "      <td>168.000</td>\n",
       "      <td>oil ,  corn ,  peanut ,   olive</td>\n",
       "      <td>maize corn oil</td>\n",
       "      <td>maize corn oil</td>\n",
       "      <td>-1.0</td>\n",
       "      <td>salt low cholesterol sugar cookies recipe</td>\n",
       "    </tr>\n",
       "  </tbody>\n",
       "</table>\n",
       "</div>"
      ],
      "text/plain": [
       "   Unnamed: 0                                        title_raw          id  \\\n",
       "0           0                                  yogurt parfaits  000095fc1d   \n",
       "1           1                                  yogurt parfaits  000095fc1d   \n",
       "2           4                                  yogurt parfaits  000095fc1d   \n",
       "3           5  salt free, low cholesterol sugar cookies recipe  00051d5b9d   \n",
       "4           6  salt free, low cholesterol sugar cookies recipe  00051d5b9d   \n",
       "\n",
       "                                                 url   unit  \\\n",
       "0  http://tastykitchen.com/recipes/breakfastbrunc...  ounce   \n",
       "1  http://tastykitchen.com/recipes/breakfastbrunc...    cup   \n",
       "2  http://tastykitchen.com/recipes/breakfastbrunc...    cup   \n",
       "3  http://cookeatshare.com/recipes/salt-free-low-...    cup   \n",
       "4  http://cookeatshare.com/recipes/salt-free-low-...    cup   \n",
       "\n",
       "          quantity_raw                           ingredient_raw  \\\n",
       "0                    8             yogurt, greek, plain, nonfat   \n",
       "1                    1                        strawberries, raw   \n",
       "2  2022-04-01 00:00:00  cereals ready-to-eat, granola, homemade   \n",
       "3              01-fŽvr                       sugars, granulated   \n",
       "4  2022-04-03 00:00:00             oil, corn, peanut, and olive   \n",
       "\n",
       "   weight_per_ingr           ingredient_clean_comma  \\\n",
       "0          226.796       yogurt ,  greek ,  plain ,   \n",
       "1          152.000                     strawberry ,   \n",
       "2           30.500             cereal  ,  granola ,   \n",
       "3          100.800                          sugar ,   \n",
       "4          168.000  oil ,  corn ,  peanut ,   olive   \n",
       "\n",
       "               matched_ingredient                food_clean_comma  est_impact  \\\n",
       "0  yogurt ,  greek style ,  plain  yogurt ,  greek style ,  plain       240.0   \n",
       "1                    strawberry ,                    strawberry ,        -1.0   \n",
       "2                       not found                             NaN         NaN   \n",
       "3                       not found                             NaN         NaN   \n",
       "4                  maize corn oil                  maize corn oil        -1.0   \n",
       "\n",
       "                                 title_clean  \n",
       "0                            yogurt parfaits  \n",
       "1                            yogurt parfaits  \n",
       "2                            yogurt parfaits  \n",
       "3  salt low cholesterol sugar cookies recipe  \n",
       "4  salt low cholesterol sugar cookies recipe  "
      ]
     },
     "execution_count": 3,
     "metadata": {},
     "output_type": "execute_result"
    }
   ],
   "source": [
    "data.head()"
   ]
  },
  {
   "cell_type": "code",
   "execution_count": 7,
   "id": "e6bbbdbf",
   "metadata": {},
   "outputs": [
    {
     "data": {
      "text/plain": [
       "Unnamed: 0                309017\n",
       "title_raw                  43817\n",
       "id                         51227\n",
       "url                        51188\n",
       "unit                          20\n",
       "quantity_raw                 672\n",
       "ingredient_raw               357\n",
       "weight_per_ingr             5185\n",
       "ingredient_clean_comma       357\n",
       "matched_ingredient           206\n",
       "food_clean_comma             205\n",
       "est_impact                    37\n",
       "title_clean                42173\n",
       "dtype: int64"
      ]
     },
     "execution_count": 7,
     "metadata": {},
     "output_type": "execute_result"
    }
   ],
   "source": [
    "#Nombre de recettes / ingrédients / quantités / etc..\n",
    "\n",
    "data.nunique()"
   ]
  },
  {
   "cell_type": "code",
   "execution_count": 17,
   "id": "46e5dde1",
   "metadata": {},
   "outputs": [
    {
     "data": {
      "text/plain": [
       "Index(['Unnamed: 0', 'title_raw', 'id', 'url', 'unit', 'quantity_raw',\n",
       "       'ingredient_raw', 'weight_per_ingr', 'ingredient_clean_comma',\n",
       "       'matched_ingredient', 'food_clean_comma', 'est_impact', 'title_clean'],\n",
       "      dtype='object')"
      ]
     },
     "execution_count": 17,
     "metadata": {},
     "output_type": "execute_result"
    }
   ],
   "source": [
    "data.columns"
   ]
  },
  {
   "cell_type": "code",
   "execution_count": 20,
   "id": "e41123c1",
   "metadata": {},
   "outputs": [
    {
     "data": {
      "text/plain": [
       "47"
      ]
     },
     "execution_count": 20,
     "metadata": {},
     "output_type": "execute_result"
    }
   ],
   "source": [
    "len(data[data.id.isnull()])"
   ]
  },
  {
   "cell_type": "code",
   "execution_count": 35,
   "id": "67013932",
   "metadata": {},
   "outputs": [],
   "source": [
    "data = data.dropna(subset=['id'])"
   ]
  },
  {
   "cell_type": "code",
   "execution_count": 43,
   "id": "aab43056",
   "metadata": {},
   "outputs": [
    {
     "data": {
      "text/plain": [
       "92408"
      ]
     },
     "execution_count": 43,
     "metadata": {},
     "output_type": "execute_result"
    }
   ],
   "source": [
    "#nombre de ligne avec un ingrédient non matché avec agribalyse\n",
    "len(data[data.matched_ingredient == \"not found\"][\"id\"])"
   ]
  },
  {
   "cell_type": "code",
   "execution_count": 42,
   "id": "5180a089",
   "metadata": {},
   "outputs": [
    {
     "data": {
      "text/plain": [
       "42986"
      ]
     },
     "execution_count": 42,
     "metadata": {},
     "output_type": "execute_result"
    }
   ],
   "source": [
    "#nombre de recettes possédant un ingrédient non matché avec agribalyse\n",
    "data[data.matched_ingredient == \"not found\"][\"id\"].nunique()"
   ]
  },
  {
   "cell_type": "code",
   "execution_count": null,
   "id": "6a08a0b3",
   "metadata": {},
   "outputs": [],
   "source": []
  }
 ],
 "metadata": {
  "kernelspec": {
   "display_name": "Python 3.8.8 ('base')",
   "language": "python",
   "name": "python3"
  },
  "language_info": {
   "codemirror_mode": {
    "name": "ipython",
    "version": 3
   },
   "file_extension": ".py",
   "mimetype": "text/x-python",
   "name": "python",
   "nbconvert_exporter": "python",
   "pygments_lexer": "ipython3",
   "version": "3.8.8"
  },
  "vscode": {
   "interpreter": {
    "hash": "0d457020556346915eaf0633b5ffff41070056589d8ff59f7ef581d64caade2f"
   }
  }
 },
 "nbformat": 4,
 "nbformat_minor": 5
}
