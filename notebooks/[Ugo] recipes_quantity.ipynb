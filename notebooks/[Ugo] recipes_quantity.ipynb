{
 "cells": [
  {
   "cell_type": "markdown",
   "metadata": {},
   "source": [
    "# IMPORT"
   ]
  },
  {
   "cell_type": "code",
   "execution_count": 1,
   "metadata": {},
   "outputs": [],
   "source": [
    "import pandas as pd\n",
    "import numpy as np\n",
    "import re\n"
   ]
  },
  {
   "cell_type": "code",
   "execution_count": 6,
   "metadata": {},
   "outputs": [],
   "source": [
    "recipe = pd.read_json('../../personnal_data/recipes_jow.json').T.reset_index(names='recipe_name')\n",
    "data_ademe = pd.read_excel(\"../../personnal_data/data_food.xlsx\")"
   ]
  },
  {
   "cell_type": "code",
   "execution_count": 5,
   "metadata": {},
   "outputs": [],
   "source": [
    "df = pd.DataFrame(columns=['unit','ingredient'])\n",
    "for index, x in recipe.iterrows():\n",
    "    for elt  in x.ingredients:\n",
    "        if len(elt) == 1:\n",
    "            elt.append(np.nan)\n",
    "        if len(elt) > 2:\n",
    "            elt = elt[1:]\n",
    "        df.loc[len(df)] = elt\n",
    "\n",
    "units = []\n",
    "ingredients = []\n",
    "for index, x in recipe.iterrows():\n",
    "    for elt  in x.ingredients:\n",
    "        units.append(elt[0])\n",
    "        try:\n",
    "            ingredients.append([elt[1]])\n",
    "        except:\n",
    "            pass"
   ]
  },
  {
   "cell_type": "markdown",
   "metadata": {},
   "source": [
    "## weird units"
   ]
  },
  {
   "cell_type": "code",
   "execution_count": null,
   "metadata": {},
   "outputs": [],
   "source": [
    "serie_units = pd.Series(units).astype('string')"
   ]
  },
  {
   "cell_type": "code",
   "execution_count": null,
   "metadata": {},
   "outputs": [
    {
     "data": {
      "text/plain": [
       "0        80 g\n",
       "1       100 g\n",
       "2       1 càs\n",
       "3        70 g\n",
       "4           6\n",
       "        ...  \n",
       "7510        1\n",
       "7511     15 g\n",
       "7512     2 cl\n",
       "7513     2 cl\n",
       "7514     2 cl\n",
       "Length: 7515, dtype: string"
      ]
     },
     "execution_count": 5,
     "metadata": {},
     "output_type": "execute_result"
    }
   ],
   "source": [
    "serie_units[serie_units.str.contains('|'.join(['']))]"
   ]
  },
  {
   "cell_type": "code",
   "execution_count": null,
   "metadata": {},
   "outputs": [],
   "source": [
    "#classic ones\n",
    "basic_morceau_part = ['1 l', 'cl', 'ml', 'g', 'càc', 'càs', 'kg', 'pinc.']\n",
    "weird_units = serie_units[~serie_units.str.contains('|'.join(basic_morceau_part))].copy()\n",
    "#length ==  1: a number of object\n",
    "weird_units = weird_units[weird_units.str.len() > 1].copy()\n",
    "#length == 3 and contains '/': fraction of an object\n",
    "weird_units = weird_units[~((weird_units.str.len() == 3) & (weird_units.str.contains('/')))].copy()\n"
   ]
  },
  {
   "cell_type": "code",
   "execution_count": null,
   "metadata": {},
   "outputs": [
    {
     "data": {
      "text/plain": [
       "<StringArray>\n",
       "[   '3 tran.', 'Facultatif',    '1 tran.',    '2 tran.',    '4 tran.',\n",
       " '1 noisette',  '1/10 bou.',   '1/5 bou.',  '1/50 bou.',       '1 cm',\n",
       "       '1/10',  '3/10 bou.',  '1/2 tran.',        '1.5',     '1 sac.',\n",
       "   '1/4 sac.',         '20',   '2/5 bou.',   '3/5 bou.',       '2 cm',\n",
       "      '30 cm',         '15',    '8 tran.',     '1 bou.',    '6 tran.',\n",
       "   '1/2 sac.',    '5 tran.',      '3/100',   '1/4 bou.',      '1 cup',\n",
       "   '1/2 liv.',   '1/4 liv.',   '1/8 bou.',   '1/2 bou.',         '12',\n",
       "     '2 sac.',   '1/5 sac.',   '4/5 sac.',   '2/3 bou.', '4 portions',\n",
       " '6 portions', '3 portions',    '1 boule']\n",
       "Length: 43, dtype: string"
      ]
     },
     "execution_count": 23,
     "metadata": {},
     "output_type": "execute_result"
    }
   ],
   "source": [
    "weird_units.unique()"
   ]
  },
  {
   "cell_type": "markdown",
   "metadata": {},
   "source": [
    "- **bou.** : un bouquet -> 1/10 bou.\tCiboulette\n",
    "- **tran.** : une tranche -> 3 tran.\tPancetta\n",
    "- **liv.** : ???? -> 1/2 liv.\tPomme de terre\n",
    "- **sac.** : un sachet -> 1 sac.\tLevure chimique\n",
    "- **noisette** : beurre\n"
   ]
  },
  {
   "cell_type": "markdown",
   "metadata": {},
   "source": [
    "## weird quantity objects"
   ]
  },
  {
   "cell_type": "code",
   "execution_count": 4,
   "metadata": {},
   "outputs": [
    {
     "data": {
      "text/html": [
       "<div>\n",
       "<style scoped>\n",
       "    .dataframe tbody tr th:only-of-type {\n",
       "        vertical-align: middle;\n",
       "    }\n",
       "\n",
       "    .dataframe tbody tr th {\n",
       "        vertical-align: top;\n",
       "    }\n",
       "\n",
       "    .dataframe thead th {\n",
       "        text-align: right;\n",
       "    }\n",
       "</style>\n",
       "<table border=\"1\" class=\"dataframe\">\n",
       "  <thead>\n",
       "    <tr style=\"text-align: right;\">\n",
       "      <th></th>\n",
       "      <th>unit</th>\n",
       "      <th>ingredient</th>\n",
       "    </tr>\n",
       "  </thead>\n",
       "  <tbody>\n",
       "    <tr>\n",
       "      <th>85</th>\n",
       "      <td>1/10 bou.</td>\n",
       "      <td>Ciboulette</td>\n",
       "    </tr>\n",
       "    <tr>\n",
       "      <th>103</th>\n",
       "      <td>1/10 bou.</td>\n",
       "      <td>Persil (frais)</td>\n",
       "    </tr>\n",
       "    <tr>\n",
       "      <th>124</th>\n",
       "      <td>1/10 bou.</td>\n",
       "      <td>Basilic (frais)</td>\n",
       "    </tr>\n",
       "    <tr>\n",
       "      <th>129</th>\n",
       "      <td>1/5 bou.</td>\n",
       "      <td>Coriandre (frais)</td>\n",
       "    </tr>\n",
       "    <tr>\n",
       "      <th>137</th>\n",
       "      <td>1/10 bou.</td>\n",
       "      <td>Basilic (frais)</td>\n",
       "    </tr>\n",
       "    <tr>\n",
       "      <th>...</th>\n",
       "      <td>...</td>\n",
       "      <td>...</td>\n",
       "    </tr>\n",
       "    <tr>\n",
       "      <th>3618</th>\n",
       "      <td>1/10 bou.</td>\n",
       "      <td>Coriandre (frais)</td>\n",
       "    </tr>\n",
       "    <tr>\n",
       "      <th>3621</th>\n",
       "      <td>1/10 bou.</td>\n",
       "      <td>Menthe (feuilles)</td>\n",
       "    </tr>\n",
       "    <tr>\n",
       "      <th>3639</th>\n",
       "      <td>1/10 bou.</td>\n",
       "      <td>Basilic (frais)</td>\n",
       "    </tr>\n",
       "    <tr>\n",
       "      <th>3642</th>\n",
       "      <td>1/10 bou.</td>\n",
       "      <td>Persil (frais)</td>\n",
       "    </tr>\n",
       "    <tr>\n",
       "      <th>3646</th>\n",
       "      <td>1/10 bou.</td>\n",
       "      <td>Basilic (frais)</td>\n",
       "    </tr>\n",
       "  </tbody>\n",
       "</table>\n",
       "<p>176 rows × 2 columns</p>\n",
       "</div>"
      ],
      "text/plain": [
       "           unit         ingredient\n",
       "85    1/10 bou.         Ciboulette\n",
       "103   1/10 bou.     Persil (frais)\n",
       "124   1/10 bou.    Basilic (frais)\n",
       "129    1/5 bou.  Coriandre (frais)\n",
       "137   1/10 bou.    Basilic (frais)\n",
       "...         ...                ...\n",
       "3618  1/10 bou.  Coriandre (frais)\n",
       "3621  1/10 bou.  Menthe (feuilles)\n",
       "3639  1/10 bou.    Basilic (frais)\n",
       "3642  1/10 bou.     Persil (frais)\n",
       "3646  1/10 bou.    Basilic (frais)\n",
       "\n",
       "[176 rows x 2 columns]"
      ]
     },
     "execution_count": 4,
     "metadata": {},
     "output_type": "execute_result"
    }
   ],
   "source": [
    "df[df.unit.str.contains('bou.')]"
   ]
  },
  {
   "cell_type": "code",
   "execution_count": 8,
   "metadata": {},
   "outputs": [],
   "source": [
    "if False:\n",
    "    \"\"\"\n",
    "    Metrics to implement:\n",
    "    - escalope\n",
    "    - rumsteck\n",
    "    - tournedos\n",
    "    - steak\n",
    "    - steak haché\n",
    "    - paupiette\n",
    "    - pavé\n",
    "    - the weight (?) of unit ingredient: camembert (mean?), légumes, poissons, viandes (canard confit ? )\n",
    "    - gousse\n",
    "    - cuisse (Poulet (cuisse))\n",
    "    - aiguillette\n",
    "    - petit / gros (artichaut (gros) VS artichaut (petit))\n",
    "    - cube (cube de  volaille)\n",
    "    - filet \n",
    "    - feuille (algues nori)\n",
    "    \"\"\"\n",
    "# df[(df.unit.str.len() == 1)].ingredient.unique()"
   ]
  },
  {
   "cell_type": "markdown",
   "metadata": {},
   "source": [
    "voir si ça connecte à agrybalise\n",
    "\n",
    "enlever une granularité (tout rapprocher à 'volaille'/'viande rouge')"
   ]
  },
  {
   "cell_type": "code",
   "execution_count": 13,
   "metadata": {},
   "outputs": [],
   "source": [
    "agry_names = pd.Series(data_ademe['Nom du Produit en Français'].unique())\n",
    "weird_names = pd.Series(df[(df.unit.str.len() == 1)].ingredient.unique())"
   ]
  },
  {
   "cell_type": "code",
   "execution_count": 21,
   "metadata": {},
   "outputs": [
    {
     "data": {
      "text/plain": [
       "55      Ao-nori (Enteromorpha sp.), séchée ou déshydratée\n",
       "1077    Gracilaire ou ogonori (Gracilaria verrucosa), ...\n",
       "dtype: object"
      ]
     },
     "execution_count": 21,
     "metadata": {},
     "output_type": "execute_result"
    }
   ],
   "source": [
    "agry_names[agry_names.str.contains('nori')]"
   ]
  },
  {
   "cell_type": "code",
   "execution_count": 17,
   "metadata": {},
   "outputs": [
    {
     "data": {
      "text/plain": [
       "38    Pain pita\n",
       "dtype: object"
      ]
     },
     "execution_count": 17,
     "metadata": {},
     "output_type": "execute_result"
    }
   ],
   "source": [
    "#Names in agrybalise\n",
    "weird_names[weird_names.isin(agry_names)]\n"
   ]
  },
  {
   "cell_type": "markdown",
   "metadata": {},
   "source": [
    "Only one word in agrybalise : Pain pita. \\\n",
    "But for exemple, Ao-nori is in agrybalise and feuille (algue nori) is in the jow database."
   ]
  }
 ],
 "metadata": {
  "kernelspec": {
   "display_name": "Python 3.8.5",
   "language": "python",
   "name": "python3"
  },
  "language_info": {
   "codemirror_mode": {
    "name": "ipython",
    "version": 3
   },
   "file_extension": ".py",
   "mimetype": "text/x-python",
   "name": "python",
   "nbconvert_exporter": "python",
   "pygments_lexer": "ipython3",
   "version": "3.8.5"
  },
  "orig_nbformat": 4,
  "vscode": {
   "interpreter": {
    "hash": "bc895b69e755cdb2d9601c81f5369a2139eccb1bb64c066cd88f550054f4d0ce"
   }
  }
 },
 "nbformat": 4,
 "nbformat_minor": 2
}
