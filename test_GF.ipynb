{
 "cells": [
  {
   "cell_type": "code",
   "execution_count": 1,
   "id": "17383a22",
   "metadata": {},
   "outputs": [],
   "source": [
    "from project.Recipes.recipes import Ingredient, Recipe, Jow\n",
    "import pandas as pd\n",
    "import numpy as np"
   ]
  },
  {
   "cell_type": "markdown",
   "id": "4d9b2b54",
   "metadata": {},
   "source": [
    "## Test average_from_recipes"
   ]
  },
  {
   "cell_type": "code",
   "execution_count": null,
   "id": "b00ddd04",
   "metadata": {},
   "outputs": [],
   "source": [
    "recipe1 = Recipe()\n",
    "\n",
    "recipe1.add_one_ingredient(\"Boeuf\", dict(quantity = 100, unit = 'g'))\n",
    "recipe1.add_one_ingredient(\"Riz\", dict(quantity = 125, unit = 'g'))\n",
    "recipe1.add_one_ingredient(\"Carotte\", dict(quantity = 125, unit = 'g'))"
   ]
  },
  {
   "cell_type": "code",
   "execution_count": null,
   "id": "033411b6",
   "metadata": {},
   "outputs": [],
   "source": [
    "[(ing.name, qty) for ing, qty in zip(recipe1.ingredients, recipe1.quantities)]"
   ]
  },
  {
   "cell_type": "code",
   "execution_count": null,
   "id": "084412cd",
   "metadata": {},
   "outputs": [],
   "source": [
    "recipe2 = Recipe()\n",
    "\n",
    "recipe2.add_one_ingredient(\"Boeuf\", dict(quantity = 50, unit = 'g'))\n",
    "recipe2.add_one_ingredient(\"Spaghetti\", dict(quantity = 200, unit = 'g'))"
   ]
  },
  {
   "cell_type": "code",
   "execution_count": null,
   "id": "c0c65059",
   "metadata": {},
   "outputs": [],
   "source": [
    "[(ing.name, qty) for ing, qty in zip(recipe2.ingredients, recipe2.quantities)]"
   ]
  },
  {
   "cell_type": "markdown",
   "id": "a5579e20",
   "metadata": {},
   "source": [
    "Average with unit weights"
   ]
  },
  {
   "cell_type": "code",
   "execution_count": null,
   "id": "c72fdee4",
   "metadata": {},
   "outputs": [],
   "source": [
    "new_recipe = Recipe()\n",
    "new_recipe.average_from_recipes([recipe1, recipe2])"
   ]
  },
  {
   "cell_type": "code",
   "execution_count": null,
   "id": "d512ea0f",
   "metadata": {},
   "outputs": [],
   "source": [
    "[(ing.name, qty) for ing, qty in zip(new_recipe.ingredients, new_recipe.quantities)]"
   ]
  },
  {
   "cell_type": "markdown",
   "id": "17b01dcb",
   "metadata": {},
   "source": [
    "Average with other weights"
   ]
  },
  {
   "cell_type": "code",
   "execution_count": null,
   "id": "a84627db",
   "metadata": {},
   "outputs": [],
   "source": [
    "new_recipe = Recipe()\n",
    "new_recipe.average_from_recipes([recipe1, recipe2], weight_list = [1, 0.5])"
   ]
  },
  {
   "cell_type": "code",
   "execution_count": null,
   "id": "304b46cd",
   "metadata": {},
   "outputs": [],
   "source": [
    "[(ing.name, qty) for ing, qty in zip(new_recipe.ingredients, new_recipe.quantities)]"
   ]
  },
  {
   "cell_type": "markdown",
   "id": "d664c15c",
   "metadata": {},
   "source": [
    "If units are not the same, this should raise an error"
   ]
  },
  {
   "cell_type": "code",
   "execution_count": null,
   "id": "e745b8c3",
   "metadata": {},
   "outputs": [],
   "source": [
    "'''\n",
    "recipe3 = Recipe()\n",
    "\n",
    "recipe3.add_one_ingredient(\"Boeuf\", dict(quantity = 50, unit = 'mg'))\n",
    "recipe3.add_one_ingredient(\"Spaghetti\", dict(quantity = 200, unit = 'g'))\n",
    "\n",
    "new_recipe = Recipe()\n",
    "new_recipe.average_from_recipes([recipe1, recipe3])\n",
    "'''"
   ]
  },
  {
   "cell_type": "markdown",
   "id": "052f197e",
   "metadata": {},
   "source": [
    "## Test extract_recipe in class Jow"
   ]
  },
  {
   "cell_type": "code",
   "execution_count": 2,
   "id": "3fcaa3ce",
   "metadata": {},
   "outputs": [],
   "source": [
    "jow = Jow()"
   ]
  },
  {
   "cell_type": "code",
   "execution_count": null,
   "id": "790516f6",
   "metadata": {},
   "outputs": [],
   "source": [
    "pd.set_option('display.max_colwidth', None)\n",
    "jow.df"
   ]
  },
  {
   "cell_type": "code",
   "execution_count": null,
   "id": "e6a024e8",
   "metadata": {},
   "outputs": [],
   "source": [
    "jow_recipe = jow.extract_recipe(\"Spaghetti endives & prosciutto\")"
   ]
  },
  {
   "cell_type": "code",
   "execution_count": null,
   "id": "0b357899",
   "metadata": {},
   "outputs": [],
   "source": [
    "[(ing.name, qty) for ing, qty in zip(jow_recipe.ingredients, jow_recipe.quantities)]"
   ]
  },
  {
   "cell_type": "markdown",
   "id": "1df24c96",
   "metadata": {},
   "source": [
    "## Test convert_quantities_in_kg in class Recipe"
   ]
  },
  {
   "cell_type": "code",
   "execution_count": null,
   "id": "af70a11e",
   "metadata": {},
   "outputs": [],
   "source": [
    "jow_recipe.convert_quantities_in_kg()\n",
    "[(ing.name, qty) for ing, qty in zip(jow_recipe.ingredients, jow_recipe.quantities)]"
   ]
  },
  {
   "cell_type": "markdown",
   "id": "be34263b",
   "metadata": {},
   "source": [
    "## Test add_agribalyse_infos in class Ingredient"
   ]
  },
  {
   "cell_type": "code",
   "execution_count": null,
   "id": "5f0dd979",
   "metadata": {},
   "outputs": [],
   "source": [
    "for ing in jow_recipe.ingredients:\n",
    "    ing.add_agribalyse_infos()\n",
    "    print(ing.name)\n",
    "    print(ing.agribalyse_ingredients)\n",
    "    print(ing.pef_score)\n",
    "    print(\"****\")"
   ]
  },
  {
   "cell_type": "markdown",
   "id": "d7588980",
   "metadata": {},
   "source": [
    "Test for an ingredient that is not in the JOW database"
   ]
  },
  {
   "cell_type": "code",
   "execution_count": null,
   "id": "5acdd82e",
   "metadata": {},
   "outputs": [],
   "source": [
    "ing_test = Ingredient('ing non existant')\n",
    "ing_test.add_agribalyse_infos()\n",
    "print(ing_test.agribalyse_ingredients)\n",
    "print(ing_test.pef_score)"
   ]
  },
  {
   "cell_type": "markdown",
   "id": "f5e8816c",
   "metadata": {},
   "source": [
    "Test for an ingredient that is in the JOW database but for which there is no match with Agribalyse ingredients"
   ]
  },
  {
   "cell_type": "code",
   "execution_count": null,
   "id": "a8a4550e",
   "metadata": {},
   "outputs": [],
   "source": [
    "ing_test = Ingredient('Chapelure')\n",
    "ing_test.add_agribalyse_infos()\n",
    "print(ing_test.agribalyse_ingredients)\n",
    "print(ing_test.pef_score)"
   ]
  },
  {
   "cell_type": "markdown",
   "id": "b20bd518",
   "metadata": {},
   "source": [
    "## Test compute_score of class Recipe"
   ]
  },
  {
   "cell_type": "markdown",
   "id": "6fc1da3c",
   "metadata": {},
   "source": [
    "Test for one recipe whose one ingredient cannot be expressed in kg"
   ]
  },
  {
   "cell_type": "code",
   "execution_count": null,
   "id": "d6aba5d4",
   "metadata": {},
   "outputs": [],
   "source": [
    "jow_recipe = jow.extract_recipe(\"Crousti'Taco\")\n",
    "[(ing.name, qty) for ing, qty in zip(jow_recipe.ingredients, jow_recipe.quantities)]"
   ]
  },
  {
   "cell_type": "code",
   "execution_count": null,
   "id": "10473cf6",
   "metadata": {},
   "outputs": [],
   "source": [
    "jow_recipe.compute_score()"
   ]
  },
  {
   "cell_type": "code",
   "execution_count": null,
   "id": "51bc8e73",
   "metadata": {},
   "outputs": [],
   "source": [
    "jow_recipe.score_from_pefs"
   ]
  },
  {
   "cell_type": "markdown",
   "id": "9d0a9ecc",
   "metadata": {},
   "source": [
    "Test for another recipe"
   ]
  },
  {
   "cell_type": "code",
   "execution_count": null,
   "id": "a1a754ec",
   "metadata": {},
   "outputs": [],
   "source": [
    "jow_recipe = jow.extract_recipe(\"Yakitori bœuf fromage\")\n",
    "[(ing.name, qty) for ing, qty in zip(jow_recipe.ingredients, jow_recipe.quantities)]"
   ]
  },
  {
   "cell_type": "code",
   "execution_count": null,
   "id": "9a44a261",
   "metadata": {},
   "outputs": [],
   "source": [
    "jow_recipe.compute_score()\n",
    "jow_recipe.score_from_pefs"
   ]
  },
  {
   "cell_type": "code",
   "execution_count": null,
   "id": "91a683d5",
   "metadata": {},
   "outputs": [],
   "source": [
    "for ing in jow_recipe.ingredients:\n",
    "    ing.add_agribalyse_infos()\n",
    "    print(ing.name)\n",
    "    print(ing.agribalyse_ingredients)\n",
    "    print(ing.pef_score)\n",
    "    print(\"****\")"
   ]
  },
  {
   "cell_type": "code",
   "execution_count": null,
   "id": "d9fec474",
   "metadata": {},
   "outputs": [],
   "source": [
    "[(ing.name, qty, np.round(s, 3)) for ing, qty, s in zip(jow_recipe.ingredients, jow_recipe.quantities, jow_recipe.score_contributions)]"
   ]
  },
  {
   "cell_type": "code",
   "execution_count": null,
   "id": "00b6f9c3",
   "metadata": {},
   "outputs": [],
   "source": [
    "0.08*3.242932402+0.1*0.593099005+0.099202987*0.015+0.07*0.9757250999999999"
   ]
  },
  {
   "cell_type": "markdown",
   "id": "3622753f",
   "metadata": {},
   "source": [
    "Test for a recipe average"
   ]
  },
  {
   "cell_type": "code",
   "execution_count": null,
   "id": "06820287",
   "metadata": {},
   "outputs": [],
   "source": [
    "jow_recipe_1 = jow.extract_recipe(\"Yakitori bœuf fromage\")\n",
    "jow_recipe_2 = jow.extract_recipe(\"Pasta alla carbonara\")\n",
    "\n",
    "new_recipe = Recipe()\n",
    "new_recipe.average_from_recipes([jow_recipe_1, jow_recipe_2], weight_list = [1, 1], threshold = 0)"
   ]
  },
  {
   "cell_type": "code",
   "execution_count": null,
   "id": "9660b26f",
   "metadata": {},
   "outputs": [],
   "source": [
    "[(ing.name, qty) for ing, qty in zip(new_recipe.ingredients, new_recipe.quantities)]"
   ]
  },
  {
   "cell_type": "code",
   "execution_count": null,
   "id": "2ed26933",
   "metadata": {},
   "outputs": [],
   "source": [
    "for ing in new_recipe.ingredients:\n",
    "    ing.add_agribalyse_infos()\n",
    "    print(ing.name)\n",
    "    print(ing.agribalyse_ingredients)\n",
    "    print(ing.pef_score)\n",
    "    print(\"****\")"
   ]
  },
  {
   "cell_type": "code",
   "execution_count": null,
   "id": "f46a8e1e",
   "metadata": {},
   "outputs": [],
   "source": [
    "new_recipe.compute_score()\n",
    "new_recipe.score_from_pefs"
   ]
  },
  {
   "cell_type": "code",
   "execution_count": null,
   "id": "099f2165",
   "metadata": {},
   "outputs": [],
   "source": [
    "[(ing.name, qty, np.round(s, 3)) for ing, qty, s in zip(new_recipe.ingredients, new_recipe.quantities, new_recipe.score_contributions)]"
   ]
  },
  {
   "cell_type": "code",
   "execution_count": null,
   "id": "bd9f85b6",
   "metadata": {},
   "outputs": [],
   "source": [
    "jow_recipe_1 = jow.extract_recipe('Pasta alla vodka')\n",
    "jow_recipe_2 = jow.extract_recipe('Creamy Eggs & Prosciutto pasta')\n",
    "jow_recipe_3 = jow.extract_recipe('Spaghetti endives & prosciutto')\n",
    "\n",
    "print([(ing.name, qty) for ing, qty in zip(jow_recipe_1.ingredients, jow_recipe_1.quantities)])\n",
    "print([(ing.name, qty) for ing, qty in zip(jow_recipe_2.ingredients, jow_recipe_2.quantities)])\n",
    "print([(ing.name, qty) for ing, qty in zip(jow_recipe_3.ingredients, jow_recipe_3.quantities)])\n",
    "print('\\n')\n",
    "      \n",
    "average_recipe = Recipe()\n",
    "'''\n",
    "try:\n",
    "    average_recipe.average_from_recipes([jow_recipe_1, jow_recipe_2, jow_recipe_3], threshold = 0)\n",
    "    print('ici')\n",
    "except:\n",
    "    average_recipe.add_one_ingredient(\"Cannot be calculated\", dict(quantity = 0, unit = 'no unit'))\n",
    "    print('la')\n",
    "finally:\n",
    "    #res = [(ing.name, qty, np.round(s, 3)) for ing, qty, s in zip(average_recipe.ingredients, average_recipe.quantities, average_recipe.score_contributions)]\n",
    "    res = [(ing.name, qty) for ing, qty in zip(average_recipe.ingredients, average_recipe.quantities)]\n",
    "    print(res)\n",
    "'''\n",
    "average_recipe.average_from_recipes([jow_recipe_1, jow_recipe_2, jow_recipe_3], threshold = 0)\n",
    "res = [(ing.name, qty) for ing, qty in zip(average_recipe.ingredients, average_recipe.quantities)]\n",
    "print(res)\n",
    "print(average_recipe.score_from_pefs)\n",
    "print(average_recipe.score_contributions)"
   ]
  },
  {
   "cell_type": "code",
   "execution_count": 3,
   "id": "543e6113",
   "metadata": {},
   "outputs": [
    {
     "name": "stderr",
     "output_type": "stream",
     "text": [
      "C:\\Users\\genef\\Documents\\GitHub\\carbondiet\\project\\Recipes\\recipes.py:160: UserWarning: The ingredient 'Ricottacannot be matched with one of the Agribalyse ingredients.\n",
      "  warnings.warn(\"The ingredient '\" + self.name + \"cannot be matched with one of the Agribalyse ingredients.\")\n"
     ]
    },
    {
     "data": {
      "text/plain": [
       "nan"
      ]
     },
     "execution_count": 3,
     "metadata": {},
     "output_type": "execute_result"
    }
   ],
   "source": [
    "jow_recipe = jow.extract_recipe('Pasta alla Norma')\n",
    "jow_recipe.compute_score()\n",
    "jow_recipe.score_from_pefs"
   ]
  },
  {
   "cell_type": "code",
   "execution_count": 4,
   "id": "f0523648",
   "metadata": {},
   "outputs": [
    {
     "name": "stderr",
     "output_type": "stream",
     "text": [
      "C:\\Users\\genef\\Documents\\GitHub\\carbondiet\\project\\Recipes\\recipes.py:160: UserWarning: The ingredient 'Olive noirecannot be matched with one of the Agribalyse ingredients.\n",
      "  warnings.warn(\"The ingredient '\" + self.name + \"cannot be matched with one of the Agribalyse ingredients.\")\n",
      "C:\\Users\\genef\\Documents\\GitHub\\carbondiet\\project\\Recipes\\recipes.py:160: UserWarning: The ingredient 'Câprescannot be matched with one of the Agribalyse ingredients.\n",
      "  warnings.warn(\"The ingredient '\" + self.name + \"cannot be matched with one of the Agribalyse ingredients.\")\n"
     ]
    },
    {
     "data": {
      "text/plain": [
       "nan"
      ]
     },
     "execution_count": 4,
     "metadata": {},
     "output_type": "execute_result"
    }
   ],
   "source": [
    "jow_recipe = jow.extract_recipe('Spaghetti alla puttanesca')\n",
    "jow_recipe.compute_score()\n",
    "jow_recipe.score_from_pefs"
   ]
  },
  {
   "cell_type": "code",
   "execution_count": null,
   "id": "8559e0ff",
   "metadata": {},
   "outputs": [],
   "source": []
  }
 ],
 "metadata": {
  "kernelspec": {
   "display_name": "Python 3 (ipykernel)",
   "language": "python",
   "name": "python3"
  },
  "language_info": {
   "codemirror_mode": {
    "name": "ipython",
    "version": 3
   },
   "file_extension": ".py",
   "mimetype": "text/x-python",
   "name": "python",
   "nbconvert_exporter": "python",
   "pygments_lexer": "ipython3",
   "version": "3.9.16"
  }
 },
 "nbformat": 4,
 "nbformat_minor": 5
}
